{
 "cells": [
  {
   "cell_type": "code",
   "execution_count": 1,
   "id": "080d2b6c",
   "metadata": {},
   "outputs": [],
   "source": [
    "import numpy as np\n",
    "import pandas as pd"
   ]
  },
  {
   "cell_type": "code",
   "execution_count": 2,
   "id": "cb38433d",
   "metadata": {},
   "outputs": [
    {
     "data": {
      "text/html": [
       "<div>\n",
       "<style scoped>\n",
       "    .dataframe tbody tr th:only-of-type {\n",
       "        vertical-align: middle;\n",
       "    }\n",
       "\n",
       "    .dataframe tbody tr th {\n",
       "        vertical-align: top;\n",
       "    }\n",
       "\n",
       "    .dataframe thead th {\n",
       "        text-align: right;\n",
       "    }\n",
       "</style>\n",
       "<table border=\"1\" class=\"dataframe\">\n",
       "  <thead>\n",
       "    <tr style=\"text-align: right;\">\n",
       "      <th></th>\n",
       "      <th>id</th>\n",
       "      <th>diagnosis</th>\n",
       "      <th>radius_mean</th>\n",
       "      <th>texture_mean</th>\n",
       "      <th>perimeter_mean</th>\n",
       "      <th>area_mean</th>\n",
       "      <th>smoothness_mean</th>\n",
       "      <th>compactness_mean</th>\n",
       "      <th>concavity_mean</th>\n",
       "      <th>concave points_mean</th>\n",
       "      <th>...</th>\n",
       "      <th>texture_worst</th>\n",
       "      <th>perimeter_worst</th>\n",
       "      <th>area_worst</th>\n",
       "      <th>smoothness_worst</th>\n",
       "      <th>compactness_worst</th>\n",
       "      <th>concavity_worst</th>\n",
       "      <th>concave points_worst</th>\n",
       "      <th>symmetry_worst</th>\n",
       "      <th>fractal_dimension_worst</th>\n",
       "      <th>Unnamed: 32</th>\n",
       "    </tr>\n",
       "  </thead>\n",
       "  <tbody>\n",
       "    <tr>\n",
       "      <th>0</th>\n",
       "      <td>842302</td>\n",
       "      <td>M</td>\n",
       "      <td>17.99</td>\n",
       "      <td>10.38</td>\n",
       "      <td>122.80</td>\n",
       "      <td>1001.0</td>\n",
       "      <td>0.11840</td>\n",
       "      <td>0.27760</td>\n",
       "      <td>0.3001</td>\n",
       "      <td>0.14710</td>\n",
       "      <td>...</td>\n",
       "      <td>17.33</td>\n",
       "      <td>184.60</td>\n",
       "      <td>2019.0</td>\n",
       "      <td>0.1622</td>\n",
       "      <td>0.6656</td>\n",
       "      <td>0.7119</td>\n",
       "      <td>0.2654</td>\n",
       "      <td>0.4601</td>\n",
       "      <td>0.11890</td>\n",
       "      <td>NaN</td>\n",
       "    </tr>\n",
       "    <tr>\n",
       "      <th>1</th>\n",
       "      <td>842517</td>\n",
       "      <td>M</td>\n",
       "      <td>20.57</td>\n",
       "      <td>17.77</td>\n",
       "      <td>132.90</td>\n",
       "      <td>1326.0</td>\n",
       "      <td>0.08474</td>\n",
       "      <td>0.07864</td>\n",
       "      <td>0.0869</td>\n",
       "      <td>0.07017</td>\n",
       "      <td>...</td>\n",
       "      <td>23.41</td>\n",
       "      <td>158.80</td>\n",
       "      <td>1956.0</td>\n",
       "      <td>0.1238</td>\n",
       "      <td>0.1866</td>\n",
       "      <td>0.2416</td>\n",
       "      <td>0.1860</td>\n",
       "      <td>0.2750</td>\n",
       "      <td>0.08902</td>\n",
       "      <td>NaN</td>\n",
       "    </tr>\n",
       "    <tr>\n",
       "      <th>2</th>\n",
       "      <td>84300903</td>\n",
       "      <td>M</td>\n",
       "      <td>19.69</td>\n",
       "      <td>21.25</td>\n",
       "      <td>130.00</td>\n",
       "      <td>1203.0</td>\n",
       "      <td>0.10960</td>\n",
       "      <td>0.15990</td>\n",
       "      <td>0.1974</td>\n",
       "      <td>0.12790</td>\n",
       "      <td>...</td>\n",
       "      <td>25.53</td>\n",
       "      <td>152.50</td>\n",
       "      <td>1709.0</td>\n",
       "      <td>0.1444</td>\n",
       "      <td>0.4245</td>\n",
       "      <td>0.4504</td>\n",
       "      <td>0.2430</td>\n",
       "      <td>0.3613</td>\n",
       "      <td>0.08758</td>\n",
       "      <td>NaN</td>\n",
       "    </tr>\n",
       "    <tr>\n",
       "      <th>3</th>\n",
       "      <td>84348301</td>\n",
       "      <td>M</td>\n",
       "      <td>11.42</td>\n",
       "      <td>20.38</td>\n",
       "      <td>77.58</td>\n",
       "      <td>386.1</td>\n",
       "      <td>0.14250</td>\n",
       "      <td>0.28390</td>\n",
       "      <td>0.2414</td>\n",
       "      <td>0.10520</td>\n",
       "      <td>...</td>\n",
       "      <td>26.50</td>\n",
       "      <td>98.87</td>\n",
       "      <td>567.7</td>\n",
       "      <td>0.2098</td>\n",
       "      <td>0.8663</td>\n",
       "      <td>0.6869</td>\n",
       "      <td>0.2575</td>\n",
       "      <td>0.6638</td>\n",
       "      <td>0.17300</td>\n",
       "      <td>NaN</td>\n",
       "    </tr>\n",
       "    <tr>\n",
       "      <th>4</th>\n",
       "      <td>84358402</td>\n",
       "      <td>M</td>\n",
       "      <td>20.29</td>\n",
       "      <td>14.34</td>\n",
       "      <td>135.10</td>\n",
       "      <td>1297.0</td>\n",
       "      <td>0.10030</td>\n",
       "      <td>0.13280</td>\n",
       "      <td>0.1980</td>\n",
       "      <td>0.10430</td>\n",
       "      <td>...</td>\n",
       "      <td>16.67</td>\n",
       "      <td>152.20</td>\n",
       "      <td>1575.0</td>\n",
       "      <td>0.1374</td>\n",
       "      <td>0.2050</td>\n",
       "      <td>0.4000</td>\n",
       "      <td>0.1625</td>\n",
       "      <td>0.2364</td>\n",
       "      <td>0.07678</td>\n",
       "      <td>NaN</td>\n",
       "    </tr>\n",
       "  </tbody>\n",
       "</table>\n",
       "<p>5 rows × 33 columns</p>\n",
       "</div>"
      ],
      "text/plain": [
       "         id diagnosis  radius_mean  texture_mean  perimeter_mean  area_mean  \\\n",
       "0    842302         M        17.99         10.38          122.80     1001.0   \n",
       "1    842517         M        20.57         17.77          132.90     1326.0   \n",
       "2  84300903         M        19.69         21.25          130.00     1203.0   \n",
       "3  84348301         M        11.42         20.38           77.58      386.1   \n",
       "4  84358402         M        20.29         14.34          135.10     1297.0   \n",
       "\n",
       "   smoothness_mean  compactness_mean  concavity_mean  concave points_mean  \\\n",
       "0          0.11840           0.27760          0.3001              0.14710   \n",
       "1          0.08474           0.07864          0.0869              0.07017   \n",
       "2          0.10960           0.15990          0.1974              0.12790   \n",
       "3          0.14250           0.28390          0.2414              0.10520   \n",
       "4          0.10030           0.13280          0.1980              0.10430   \n",
       "\n",
       "   ...  texture_worst  perimeter_worst  area_worst  smoothness_worst  \\\n",
       "0  ...          17.33           184.60      2019.0            0.1622   \n",
       "1  ...          23.41           158.80      1956.0            0.1238   \n",
       "2  ...          25.53           152.50      1709.0            0.1444   \n",
       "3  ...          26.50            98.87       567.7            0.2098   \n",
       "4  ...          16.67           152.20      1575.0            0.1374   \n",
       "\n",
       "   compactness_worst  concavity_worst  concave points_worst  symmetry_worst  \\\n",
       "0             0.6656           0.7119                0.2654          0.4601   \n",
       "1             0.1866           0.2416                0.1860          0.2750   \n",
       "2             0.4245           0.4504                0.2430          0.3613   \n",
       "3             0.8663           0.6869                0.2575          0.6638   \n",
       "4             0.2050           0.4000                0.1625          0.2364   \n",
       "\n",
       "   fractal_dimension_worst  Unnamed: 32  \n",
       "0                  0.11890          NaN  \n",
       "1                  0.08902          NaN  \n",
       "2                  0.08758          NaN  \n",
       "3                  0.17300          NaN  \n",
       "4                  0.07678          NaN  \n",
       "\n",
       "[5 rows x 33 columns]"
      ]
     },
     "execution_count": 2,
     "metadata": {},
     "output_type": "execute_result"
    }
   ],
   "source": [
    "df=pd.read_csv(\"data.csv\")\n",
    "df.head()"
   ]
  },
  {
   "cell_type": "code",
   "execution_count": 3,
   "id": "c0d85491",
   "metadata": {},
   "outputs": [],
   "source": [
    "df = df.drop(['Unnamed: 32'],axis=1)"
   ]
  },
  {
   "cell_type": "code",
   "execution_count": 4,
   "id": "646e1a62",
   "metadata": {},
   "outputs": [
    {
     "data": {
      "text/plain": [
       "0    357\n",
       "1    212\n",
       "Name: diagnosis, dtype: int64"
      ]
     },
     "execution_count": 4,
     "metadata": {},
     "output_type": "execute_result"
    }
   ],
   "source": [
    "df['diagnosis'] = df['diagnosis'].map({'B':0,'M':1})\n",
    "df['diagnosis'].value_counts()"
   ]
  },
  {
   "cell_type": "code",
   "execution_count": 5,
   "id": "5a7942bc",
   "metadata": {},
   "outputs": [
    {
     "data": {
      "text/plain": [
       "0    0.627417\n",
       "1    0.372583\n",
       "Name: diagnosis, dtype: float64"
      ]
     },
     "execution_count": 5,
     "metadata": {},
     "output_type": "execute_result"
    }
   ],
   "source": [
    "df['diagnosis'].value_counts(normalize=True)"
   ]
  },
  {
   "cell_type": "code",
   "execution_count": 6,
   "id": "6c93ac31",
   "metadata": {},
   "outputs": [],
   "source": [
    "X = df.drop('diagnosis', axis=1).values\n",
    "y = df['diagnosis'].values"
   ]
  },
  {
   "cell_type": "code",
   "execution_count": 7,
   "id": "10832f59",
   "metadata": {},
   "outputs": [],
   "source": [
    "from sklearn.model_selection import train_test_split\n",
    "X_train, X_test, y_train, y_test = train_test_split(X, y, test_size=0.2, random_state=101, stratify=y)\n",
    "n_cols = X_train.shape[1]"
   ]
  },
  {
   "cell_type": "code",
   "execution_count": 8,
   "id": "8c7fb653",
   "metadata": {},
   "outputs": [],
   "source": [
    "from sklearn.preprocessing import MinMaxScaler\n",
    "scaler = MinMaxScaler()\n",
    "X_train = scaler.fit_transform(X_train)\n",
    "X_test = scaler.transform(X_test)"
   ]
  },
  {
   "cell_type": "code",
   "execution_count": 9,
   "id": "dd99bce9",
   "metadata": {},
   "outputs": [],
   "source": [
    "import tensorflow as tf\n",
    "from tensorflow.keras.models import Sequential\n",
    "from tensorflow.keras.layers import Dense,Dropout, BatchNormalization\n",
    "from tensorflow.keras.callbacks import EarlyStopping"
   ]
  },
  {
   "cell_type": "code",
   "execution_count": 10,
   "id": "4f5c6cea",
   "metadata": {},
   "outputs": [],
   "source": [
    "# https://stats.stackexchange.com/questions/181/how-to-choose-the-number-of-hidden-layers-and-nodes-in-a-feedforward-neural-netw\n",
    "model = Sequential()\n",
    "model.add(Dense(50, activation = 'relu', input_shape=(n_cols,)))\n",
    "model.add(BatchNormalization())\n",
    "model.add(Dropout(.2))\n",
    "\n",
    "model.add(Dense(25, activation = 'relu',))\n",
    "model.add(BatchNormalization())\n",
    "model.add(Dropout(.2))\n",
    "\n",
    "model.add(Dense(11, activation = 'relu',))\n",
    "model.add(BatchNormalization())\n",
    "model.add(Dropout(.2))\n",
    "\n",
    "model.add(Dense(1, activation='sigmoid'))\n",
    "\n",
    "model.compile(loss='binary_crossentropy', optimizer='adam', metrics=['accuracy'])"
   ]
  },
  {
   "cell_type": "code",
   "execution_count": 11,
   "id": "4e1cb056",
   "metadata": {},
   "outputs": [],
   "source": [
    "early_stop = EarlyStopping(monitor='val_loss', patience=6, mode='min')"
   ]
  },
  {
   "cell_type": "code",
   "execution_count": 12,
   "id": "06e04628",
   "metadata": {},
   "outputs": [
    {
     "name": "stdout",
     "output_type": "stream",
     "text": [
      "Epoch 1/100\n",
      "4/4 [==============================] - 1s 68ms/step - loss: 0.7699 - accuracy: 0.5231 - val_loss: 0.6837 - val_accuracy: 0.6140\n",
      "Epoch 2/100\n",
      "4/4 [==============================] - 0s 14ms/step - loss: 0.6489 - accuracy: 0.6066 - val_loss: 0.6829 - val_accuracy: 0.5614\n",
      "Epoch 3/100\n",
      "4/4 [==============================] - 0s 15ms/step - loss: 0.5579 - accuracy: 0.7165 - val_loss: 0.6819 - val_accuracy: 0.5351\n",
      "Epoch 4/100\n",
      "4/4 [==============================] - 0s 13ms/step - loss: 0.5167 - accuracy: 0.7560 - val_loss: 0.6800 - val_accuracy: 0.5263\n",
      "Epoch 5/100\n",
      "4/4 [==============================] - 0s 16ms/step - loss: 0.4748 - accuracy: 0.7824 - val_loss: 0.6775 - val_accuracy: 0.5000\n",
      "Epoch 6/100\n",
      "4/4 [==============================] - 0s 14ms/step - loss: 0.4411 - accuracy: 0.8418 - val_loss: 0.6740 - val_accuracy: 0.5000\n",
      "Epoch 7/100\n",
      "4/4 [==============================] - 0s 13ms/step - loss: 0.3975 - accuracy: 0.8593 - val_loss: 0.6698 - val_accuracy: 0.4825\n",
      "Epoch 8/100\n",
      "4/4 [==============================] - 0s 15ms/step - loss: 0.3757 - accuracy: 0.8593 - val_loss: 0.6644 - val_accuracy: 0.5088\n",
      "Epoch 9/100\n",
      "4/4 [==============================] - 0s 16ms/step - loss: 0.3534 - accuracy: 0.8923 - val_loss: 0.6582 - val_accuracy: 0.5175\n",
      "Epoch 10/100\n",
      "4/4 [==============================] - 0s 15ms/step - loss: 0.3206 - accuracy: 0.9077 - val_loss: 0.6512 - val_accuracy: 0.5175\n",
      "Epoch 11/100\n",
      "4/4 [==============================] - 0s 14ms/step - loss: 0.3025 - accuracy: 0.9209 - val_loss: 0.6445 - val_accuracy: 0.5263\n",
      "Epoch 12/100\n",
      "4/4 [==============================] - 0s 14ms/step - loss: 0.2990 - accuracy: 0.9077 - val_loss: 0.6376 - val_accuracy: 0.5263\n",
      "Epoch 13/100\n",
      "4/4 [==============================] - 0s 14ms/step - loss: 0.2940 - accuracy: 0.9033 - val_loss: 0.6293 - val_accuracy: 0.5702\n",
      "Epoch 14/100\n",
      "4/4 [==============================] - 0s 14ms/step - loss: 0.2764 - accuracy: 0.9143 - val_loss: 0.6197 - val_accuracy: 0.5965\n",
      "Epoch 15/100\n",
      "4/4 [==============================] - 0s 14ms/step - loss: 0.2454 - accuracy: 0.9407 - val_loss: 0.6109 - val_accuracy: 0.6053\n",
      "Epoch 16/100\n",
      "4/4 [==============================] - 0s 14ms/step - loss: 0.2335 - accuracy: 0.9407 - val_loss: 0.6008 - val_accuracy: 0.6228\n",
      "Epoch 17/100\n",
      "4/4 [==============================] - 0s 14ms/step - loss: 0.2338 - accuracy: 0.9385 - val_loss: 0.5901 - val_accuracy: 0.6316\n",
      "Epoch 18/100\n",
      "4/4 [==============================] - 0s 14ms/step - loss: 0.2179 - accuracy: 0.9538 - val_loss: 0.5781 - val_accuracy: 0.6579\n",
      "Epoch 19/100\n",
      "4/4 [==============================] - 0s 17ms/step - loss: 0.2287 - accuracy: 0.9407 - val_loss: 0.5646 - val_accuracy: 0.6842\n",
      "Epoch 20/100\n",
      "4/4 [==============================] - 0s 18ms/step - loss: 0.2248 - accuracy: 0.9451 - val_loss: 0.5510 - val_accuracy: 0.6842\n",
      "Epoch 21/100\n",
      "4/4 [==============================] - 0s 32ms/step - loss: 0.1974 - accuracy: 0.9451 - val_loss: 0.5358 - val_accuracy: 0.7193\n",
      "Epoch 22/100\n",
      "4/4 [==============================] - 0s 35ms/step - loss: 0.1854 - accuracy: 0.9648 - val_loss: 0.5205 - val_accuracy: 0.7544\n",
      "Epoch 23/100\n",
      "4/4 [==============================] - 0s 34ms/step - loss: 0.1862 - accuracy: 0.9692 - val_loss: 0.5040 - val_accuracy: 0.7807\n",
      "Epoch 24/100\n",
      "4/4 [==============================] - 0s 33ms/step - loss: 0.1774 - accuracy: 0.9714 - val_loss: 0.4867 - val_accuracy: 0.8070\n",
      "Epoch 25/100\n",
      "4/4 [==============================] - 0s 33ms/step - loss: 0.1718 - accuracy: 0.9560 - val_loss: 0.4715 - val_accuracy: 0.8158\n",
      "Epoch 26/100\n",
      "4/4 [==============================] - 0s 34ms/step - loss: 0.1771 - accuracy: 0.9495 - val_loss: 0.4590 - val_accuracy: 0.8246\n",
      "Epoch 27/100\n",
      "4/4 [==============================] - 0s 36ms/step - loss: 0.1721 - accuracy: 0.9604 - val_loss: 0.4489 - val_accuracy: 0.8333\n",
      "Epoch 28/100\n",
      "4/4 [==============================] - 0s 36ms/step - loss: 0.1566 - accuracy: 0.9736 - val_loss: 0.4386 - val_accuracy: 0.8333\n",
      "Epoch 29/100\n",
      "4/4 [==============================] - 0s 32ms/step - loss: 0.1474 - accuracy: 0.9670 - val_loss: 0.4212 - val_accuracy: 0.8509\n",
      "Epoch 30/100\n",
      "4/4 [==============================] - 0s 33ms/step - loss: 0.1449 - accuracy: 0.9648 - val_loss: 0.4007 - val_accuracy: 0.8772\n",
      "Epoch 31/100\n",
      "4/4 [==============================] - 0s 30ms/step - loss: 0.1512 - accuracy: 0.9692 - val_loss: 0.3857 - val_accuracy: 0.8860\n",
      "Epoch 32/100\n",
      "4/4 [==============================] - 0s 32ms/step - loss: 0.1424 - accuracy: 0.9780 - val_loss: 0.3682 - val_accuracy: 0.8947\n",
      "Epoch 33/100\n",
      "4/4 [==============================] - 0s 31ms/step - loss: 0.1555 - accuracy: 0.9582 - val_loss: 0.3478 - val_accuracy: 0.8860\n",
      "Epoch 34/100\n",
      "4/4 [==============================] - 0s 31ms/step - loss: 0.1517 - accuracy: 0.9670 - val_loss: 0.3283 - val_accuracy: 0.8860\n",
      "Epoch 35/100\n",
      "4/4 [==============================] - 0s 35ms/step - loss: 0.1399 - accuracy: 0.9714 - val_loss: 0.3145 - val_accuracy: 0.8947\n",
      "Epoch 36/100\n",
      "4/4 [==============================] - 0s 33ms/step - loss: 0.1371 - accuracy: 0.9780 - val_loss: 0.3004 - val_accuracy: 0.9035\n",
      "Epoch 37/100\n",
      "4/4 [==============================] - 0s 31ms/step - loss: 0.1357 - accuracy: 0.9692 - val_loss: 0.2878 - val_accuracy: 0.9035\n",
      "Epoch 38/100\n",
      "4/4 [==============================] - 0s 31ms/step - loss: 0.1141 - accuracy: 0.9802 - val_loss: 0.2796 - val_accuracy: 0.9035\n",
      "Epoch 39/100\n",
      "4/4 [==============================] - 0s 32ms/step - loss: 0.1187 - accuracy: 0.9670 - val_loss: 0.2715 - val_accuracy: 0.9035\n",
      "Epoch 40/100\n",
      "4/4 [==============================] - 0s 30ms/step - loss: 0.1127 - accuracy: 0.9824 - val_loss: 0.2638 - val_accuracy: 0.9035\n",
      "Epoch 41/100\n",
      "4/4 [==============================] - 0s 29ms/step - loss: 0.1069 - accuracy: 0.9780 - val_loss: 0.2542 - val_accuracy: 0.9123\n",
      "Epoch 42/100\n",
      "4/4 [==============================] - 0s 30ms/step - loss: 0.0990 - accuracy: 0.9824 - val_loss: 0.2429 - val_accuracy: 0.9298\n",
      "Epoch 43/100\n",
      "4/4 [==============================] - 0s 27ms/step - loss: 0.1034 - accuracy: 0.9780 - val_loss: 0.2311 - val_accuracy: 0.9386\n",
      "Epoch 44/100\n",
      "4/4 [==============================] - 0s 31ms/step - loss: 0.0925 - accuracy: 0.9780 - val_loss: 0.2225 - val_accuracy: 0.9474\n",
      "Epoch 45/100\n",
      "4/4 [==============================] - 0s 32ms/step - loss: 0.0949 - accuracy: 0.9824 - val_loss: 0.2158 - val_accuracy: 0.9474\n",
      "Epoch 46/100\n",
      "4/4 [==============================] - 0s 27ms/step - loss: 0.1063 - accuracy: 0.9824 - val_loss: 0.2105 - val_accuracy: 0.9474\n",
      "Epoch 47/100\n",
      "4/4 [==============================] - 0s 30ms/step - loss: 0.1035 - accuracy: 0.9714 - val_loss: 0.2035 - val_accuracy: 0.9474\n",
      "Epoch 48/100\n",
      "4/4 [==============================] - 0s 28ms/step - loss: 0.1147 - accuracy: 0.9648 - val_loss: 0.1918 - val_accuracy: 0.9474\n",
      "Epoch 49/100\n",
      "4/4 [==============================] - 0s 28ms/step - loss: 0.0823 - accuracy: 0.9868 - val_loss: 0.1817 - val_accuracy: 0.9386\n",
      "Epoch 50/100\n",
      "4/4 [==============================] - 0s 27ms/step - loss: 0.1089 - accuracy: 0.9648 - val_loss: 0.1733 - val_accuracy: 0.9386\n",
      "Epoch 51/100\n",
      "4/4 [==============================] - 0s 27ms/step - loss: 0.1011 - accuracy: 0.9736 - val_loss: 0.1654 - val_accuracy: 0.9386\n",
      "Epoch 52/100\n",
      "4/4 [==============================] - 0s 31ms/step - loss: 0.0860 - accuracy: 0.9824 - val_loss: 0.1593 - val_accuracy: 0.9386\n",
      "Epoch 53/100\n",
      "4/4 [==============================] - 0s 27ms/step - loss: 0.0863 - accuracy: 0.9780 - val_loss: 0.1563 - val_accuracy: 0.9386\n",
      "Epoch 54/100\n",
      "4/4 [==============================] - 0s 27ms/step - loss: 0.1081 - accuracy: 0.9714 - val_loss: 0.1549 - val_accuracy: 0.9386\n",
      "Epoch 55/100\n",
      "4/4 [==============================] - 0s 30ms/step - loss: 0.0885 - accuracy: 0.9758 - val_loss: 0.1533 - val_accuracy: 0.9386\n",
      "Epoch 56/100\n",
      "4/4 [==============================] - 0s 29ms/step - loss: 0.0847 - accuracy: 0.9802 - val_loss: 0.1498 - val_accuracy: 0.9386\n",
      "Epoch 57/100\n",
      "4/4 [==============================] - 0s 29ms/step - loss: 0.0926 - accuracy: 0.9780 - val_loss: 0.1468 - val_accuracy: 0.9386\n",
      "Epoch 58/100\n",
      "4/4 [==============================] - 0s 28ms/step - loss: 0.0959 - accuracy: 0.9736 - val_loss: 0.1469 - val_accuracy: 0.9386\n",
      "Epoch 59/100\n"
     ]
    },
    {
     "name": "stdout",
     "output_type": "stream",
     "text": [
      "4/4 [==============================] - 0s 26ms/step - loss: 0.1130 - accuracy: 0.9670 - val_loss: 0.1411 - val_accuracy: 0.9386\n",
      "Epoch 60/100\n",
      "4/4 [==============================] - 0s 31ms/step - loss: 0.0761 - accuracy: 0.9824 - val_loss: 0.1369 - val_accuracy: 0.9386\n",
      "Epoch 61/100\n",
      "4/4 [==============================] - 0s 29ms/step - loss: 0.0792 - accuracy: 0.9846 - val_loss: 0.1339 - val_accuracy: 0.9386\n",
      "Epoch 62/100\n",
      "4/4 [==============================] - 0s 25ms/step - loss: 0.0853 - accuracy: 0.9648 - val_loss: 0.1280 - val_accuracy: 0.9474\n",
      "Epoch 63/100\n",
      "4/4 [==============================] - 0s 29ms/step - loss: 0.0767 - accuracy: 0.9868 - val_loss: 0.1224 - val_accuracy: 0.9561\n",
      "Epoch 64/100\n",
      "4/4 [==============================] - 0s 26ms/step - loss: 0.0743 - accuracy: 0.9802 - val_loss: 0.1185 - val_accuracy: 0.9561\n",
      "Epoch 65/100\n",
      "4/4 [==============================] - 0s 29ms/step - loss: 0.0886 - accuracy: 0.9692 - val_loss: 0.1181 - val_accuracy: 0.9561\n",
      "Epoch 66/100\n",
      "4/4 [==============================] - 0s 27ms/step - loss: 0.0829 - accuracy: 0.9780 - val_loss: 0.1180 - val_accuracy: 0.9561\n",
      "Epoch 67/100\n",
      "4/4 [==============================] - 0s 29ms/step - loss: 0.0777 - accuracy: 0.9780 - val_loss: 0.1170 - val_accuracy: 0.9561\n",
      "Epoch 68/100\n",
      "4/4 [==============================] - 0s 28ms/step - loss: 0.0871 - accuracy: 0.9714 - val_loss: 0.1147 - val_accuracy: 0.9561\n",
      "Epoch 69/100\n",
      "4/4 [==============================] - 0s 26ms/step - loss: 0.0874 - accuracy: 0.9780 - val_loss: 0.1132 - val_accuracy: 0.9561\n",
      "Epoch 70/100\n",
      "4/4 [==============================] - 0s 31ms/step - loss: 0.0920 - accuracy: 0.9758 - val_loss: 0.1069 - val_accuracy: 0.9561\n",
      "Epoch 71/100\n",
      "4/4 [==============================] - 0s 28ms/step - loss: 0.0592 - accuracy: 0.9890 - val_loss: 0.1036 - val_accuracy: 0.9561\n",
      "Epoch 72/100\n",
      "4/4 [==============================] - 0s 26ms/step - loss: 0.0727 - accuracy: 0.9846 - val_loss: 0.1023 - val_accuracy: 0.9561\n",
      "Epoch 73/100\n",
      "4/4 [==============================] - 0s 30ms/step - loss: 0.0933 - accuracy: 0.9780 - val_loss: 0.1009 - val_accuracy: 0.9561\n",
      "Epoch 74/100\n",
      "4/4 [==============================] - 0s 33ms/step - loss: 0.0615 - accuracy: 0.9890 - val_loss: 0.0985 - val_accuracy: 0.9561\n",
      "Epoch 75/100\n",
      "4/4 [==============================] - 0s 29ms/step - loss: 0.0786 - accuracy: 0.9758 - val_loss: 0.0971 - val_accuracy: 0.9561\n",
      "Epoch 76/100\n",
      "4/4 [==============================] - 0s 29ms/step - loss: 0.0795 - accuracy: 0.9736 - val_loss: 0.0991 - val_accuracy: 0.9561\n",
      "Epoch 77/100\n",
      "4/4 [==============================] - 0s 28ms/step - loss: 0.0621 - accuracy: 0.9824 - val_loss: 0.0992 - val_accuracy: 0.9561\n",
      "Epoch 78/100\n",
      "4/4 [==============================] - 0s 31ms/step - loss: 0.0801 - accuracy: 0.9780 - val_loss: 0.0987 - val_accuracy: 0.9561\n",
      "Epoch 79/100\n",
      "4/4 [==============================] - 0s 35ms/step - loss: 0.0723 - accuracy: 0.9736 - val_loss: 0.0962 - val_accuracy: 0.9561\n",
      "Epoch 80/100\n",
      "4/4 [==============================] - 0s 39ms/step - loss: 0.0668 - accuracy: 0.9846 - val_loss: 0.0947 - val_accuracy: 0.9561\n",
      "Epoch 81/100\n",
      "4/4 [==============================] - 0s 35ms/step - loss: 0.0743 - accuracy: 0.9780 - val_loss: 0.0930 - val_accuracy: 0.9561\n",
      "Epoch 82/100\n",
      "4/4 [==============================] - 0s 34ms/step - loss: 0.0715 - accuracy: 0.9780 - val_loss: 0.0905 - val_accuracy: 0.9561\n",
      "Epoch 83/100\n",
      "4/4 [==============================] - 0s 34ms/step - loss: 0.0535 - accuracy: 0.9912 - val_loss: 0.0891 - val_accuracy: 0.9561\n",
      "Epoch 84/100\n",
      "4/4 [==============================] - 0s 31ms/step - loss: 0.0660 - accuracy: 0.9802 - val_loss: 0.0889 - val_accuracy: 0.9561\n",
      "Epoch 85/100\n",
      "4/4 [==============================] - 0s 33ms/step - loss: 0.0764 - accuracy: 0.9824 - val_loss: 0.0884 - val_accuracy: 0.9561\n",
      "Epoch 86/100\n",
      "4/4 [==============================] - 0s 31ms/step - loss: 0.0482 - accuracy: 0.9912 - val_loss: 0.0882 - val_accuracy: 0.9561\n",
      "Epoch 87/100\n",
      "4/4 [==============================] - 0s 28ms/step - loss: 0.0537 - accuracy: 0.9868 - val_loss: 0.0881 - val_accuracy: 0.9561\n",
      "Epoch 88/100\n",
      "4/4 [==============================] - 0s 30ms/step - loss: 0.0802 - accuracy: 0.9714 - val_loss: 0.0861 - val_accuracy: 0.9561\n",
      "Epoch 89/100\n",
      "4/4 [==============================] - 0s 31ms/step - loss: 0.0488 - accuracy: 0.9890 - val_loss: 0.0848 - val_accuracy: 0.9474\n",
      "Epoch 90/100\n",
      "4/4 [==============================] - 0s 31ms/step - loss: 0.0648 - accuracy: 0.9868 - val_loss: 0.0844 - val_accuracy: 0.9474\n",
      "Epoch 91/100\n",
      "4/4 [==============================] - 0s 29ms/step - loss: 0.0482 - accuracy: 0.9890 - val_loss: 0.0848 - val_accuracy: 0.9561\n",
      "Epoch 92/100\n",
      "4/4 [==============================] - 0s 34ms/step - loss: 0.0430 - accuracy: 0.9868 - val_loss: 0.0851 - val_accuracy: 0.9561\n",
      "Epoch 93/100\n",
      "4/4 [==============================] - 0s 31ms/step - loss: 0.0581 - accuracy: 0.9846 - val_loss: 0.0848 - val_accuracy: 0.9649\n",
      "Epoch 94/100\n",
      "4/4 [==============================] - 0s 28ms/step - loss: 0.0550 - accuracy: 0.9824 - val_loss: 0.0844 - val_accuracy: 0.9649\n",
      "Epoch 95/100\n",
      "4/4 [==============================] - 0s 29ms/step - loss: 0.0541 - accuracy: 0.9890 - val_loss: 0.0838 - val_accuracy: 0.9561\n",
      "Epoch 96/100\n",
      "4/4 [==============================] - 0s 31ms/step - loss: 0.0736 - accuracy: 0.9758 - val_loss: 0.0833 - val_accuracy: 0.9561\n",
      "Epoch 97/100\n",
      "4/4 [==============================] - 0s 31ms/step - loss: 0.0590 - accuracy: 0.9868 - val_loss: 0.0832 - val_accuracy: 0.9561\n",
      "Epoch 98/100\n",
      "4/4 [==============================] - 0s 30ms/step - loss: 0.0754 - accuracy: 0.9714 - val_loss: 0.0830 - val_accuracy: 0.9561\n",
      "Epoch 99/100\n",
      "4/4 [==============================] - 0s 29ms/step - loss: 0.0508 - accuracy: 0.9890 - val_loss: 0.0832 - val_accuracy: 0.9561\n",
      "Epoch 100/100\n",
      "4/4 [==============================] - 0s 30ms/step - loss: 0.0505 - accuracy: 0.9846 - val_loss: 0.0833 - val_accuracy: 0.9561\n"
     ]
    }
   ],
   "source": [
    "result = model.fit(X_train, y_train, \n",
    "          epochs=100, \n",
    "          batch_size=128, \n",
    "          validation_data=(X_test,y_test),\n",
    "          callbacks=[early_stop])"
   ]
  },
  {
   "cell_type": "code",
   "execution_count": 13,
   "id": "47593759",
   "metadata": {},
   "outputs": [],
   "source": [
    "loss_df = pd.DataFrame(model.history.history)"
   ]
  },
  {
   "cell_type": "code",
   "execution_count": 14,
   "id": "59362c0a",
   "metadata": {},
   "outputs": [],
   "source": [
    "import matplotlib.pyplot as plt"
   ]
  },
  {
   "cell_type": "code",
   "execution_count": 15,
   "id": "2162fea4",
   "metadata": {},
   "outputs": [
    {
     "data": {
      "text/plain": [
       "<matplotlib.legend.Legend at 0x1fdcf4add00>"
      ]
     },
     "execution_count": 15,
     "metadata": {},
     "output_type": "execute_result"
    },
    {
     "data": {
      "image/png": "[encoded data removed]",
      "text/plain": [
       "<Figure size 640x480 with 1 Axes>"
      ]
     },
     "metadata": {},
     "output_type": "display_data"
    }
   ],
   "source": [
    "plt.plot(loss_df['loss'], label='Training loss')\n",
    "plt.plot(loss_df['val_loss'], label='Validation loss')\n",
    "plt.legend()"
   ]
  },
  {
   "cell_type": "code",
   "execution_count": 16,
   "id": "0ac5cef0",
   "metadata": {},
   "outputs": [
    {
     "data": {
      "text/plain": [
       "<matplotlib.legend.Legend at 0x1fdcf4a1130>"
      ]
     },
     "execution_count": 16,
     "metadata": {},
     "output_type": "execute_result"
    },
    {
     "data": {
      "image/png": "[encoded data removed]",
      "text/plain": [
       "<Figure size 640x480 with 1 Axes>"
      ]
     },
     "metadata": {},
     "output_type": "display_data"
    }
   ],
   "source": [
    "plt.plot(loss_df['accuracy'], label='Training accuracy')\n",
    "plt.plot(loss_df['val_accuracy'], label='Validation accuracy')\n",
    "plt.legend()"
   ]
  },
  {
   "cell_type": "code",
   "execution_count": 17,
   "id": "e529d149",
   "metadata": {},
   "outputs": [],
   "source": [
    "from sklearn.metrics import classification_report, confusion_matrix, accuracy_score"
   ]
  },
  {
   "cell_type": "code",
   "execution_count": 18,
   "id": "4e4740db",
   "metadata": {},
   "outputs": [
    {
     "name": "stdout",
     "output_type": "stream",
     "text": [
      "4/4 [==============================] - 0s 5ms/step\n"
     ]
    }
   ],
   "source": [
    "y_pred = model.predict(X_test)\n",
    "y_pred = y_pred.round()"
   ]
  },
  {
   "cell_type": "code",
   "execution_count": 19,
   "id": "7b137955",
   "metadata": {},
   "outputs": [
    {
     "name": "stdout",
     "output_type": "stream",
     "text": [
      "              precision    recall  f1-score   support\n",
      "\n",
      "           0       0.96      0.97      0.97        72\n",
      "           1       0.95      0.93      0.94        42\n",
      "\n",
      "    accuracy                           0.96       114\n",
      "   macro avg       0.96      0.95      0.95       114\n",
      "weighted avg       0.96      0.96      0.96       114\n",
      "\n"
     ]
    }
   ],
   "source": [
    "print(classification_report(y_test, y_pred))"
   ]
  },
  {
   "cell_type": "code",
   "execution_count": null,
   "id": "2349ceab",
   "metadata": {},
   "outputs": [],
   "source": []
  }
 ],
 "metadata": {
  "kernelspec": {
   "display_name": "Python 3 (ipykernel)",
   "language": "python",
   "name": "python3"
  },
  "language_info": {
   "codemirror_mode": {
    "name": "ipython",
    "version": 3
   },
   "file_extension": ".py",
   "mimetype": "text/x-python",
   "name": "python",
   "nbconvert_exporter": "python",
   "pygments_lexer": "ipython3",
   "version": "3.9.6"
  }
 },
 "nbformat": 4,
 "nbformat_minor": 5
}
