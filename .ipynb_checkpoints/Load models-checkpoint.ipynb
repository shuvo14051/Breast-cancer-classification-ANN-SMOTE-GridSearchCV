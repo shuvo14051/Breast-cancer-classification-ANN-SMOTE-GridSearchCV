{
 "cells": [
  {
   "cell_type": "code",
   "execution_count": 1,
   "id": "080d2b6c",
   "metadata": {},
   "outputs": [],
   "source": [
    "import numpy as np\n",
    "import pandas as pd"
   ]
  },
  {
   "cell_type": "code",
   "execution_count": 2,
   "id": "cb38433d",
   "metadata": {},
   "outputs": [
    {
     "data": {
      "text/html": [
       "<div>\n",
       "<style scoped>\n",
       "    .dataframe tbody tr th:only-of-type {\n",
       "        vertical-align: middle;\n",
       "    }\n",
       "\n",
       "    .dataframe tbody tr th {\n",
       "        vertical-align: top;\n",
       "    }\n",
       "\n",
       "    .dataframe thead th {\n",
       "        text-align: right;\n",
       "    }\n",
       "</style>\n",
       "<table border=\"1\" class=\"dataframe\">\n",
       "  <thead>\n",
       "    <tr style=\"text-align: right;\">\n",
       "      <th></th>\n",
       "      <th>id</th>\n",
       "      <th>diagnosis</th>\n",
       "      <th>radius_mean</th>\n",
       "      <th>texture_mean</th>\n",
       "      <th>perimeter_mean</th>\n",
       "      <th>area_mean</th>\n",
       "      <th>smoothness_mean</th>\n",
       "      <th>compactness_mean</th>\n",
       "      <th>concavity_mean</th>\n",
       "      <th>concave points_mean</th>\n",
       "      <th>...</th>\n",
       "      <th>texture_worst</th>\n",
       "      <th>perimeter_worst</th>\n",
       "      <th>area_worst</th>\n",
       "      <th>smoothness_worst</th>\n",
       "      <th>compactness_worst</th>\n",
       "      <th>concavity_worst</th>\n",
       "      <th>concave points_worst</th>\n",
       "      <th>symmetry_worst</th>\n",
       "      <th>fractal_dimension_worst</th>\n",
       "      <th>Unnamed: 32</th>\n",
       "    </tr>\n",
       "  </thead>\n",
       "  <tbody>\n",
       "    <tr>\n",
       "      <th>0</th>\n",
       "      <td>842302</td>\n",
       "      <td>M</td>\n",
       "      <td>17.99</td>\n",
       "      <td>10.38</td>\n",
       "      <td>122.80</td>\n",
       "      <td>1001.0</td>\n",
       "      <td>0.11840</td>\n",
       "      <td>0.27760</td>\n",
       "      <td>0.3001</td>\n",
       "      <td>0.14710</td>\n",
       "      <td>...</td>\n",
       "      <td>17.33</td>\n",
       "      <td>184.60</td>\n",
       "      <td>2019.0</td>\n",
       "      <td>0.1622</td>\n",
       "      <td>0.6656</td>\n",
       "      <td>0.7119</td>\n",
       "      <td>0.2654</td>\n",
       "      <td>0.4601</td>\n",
       "      <td>0.11890</td>\n",
       "      <td>NaN</td>\n",
       "    </tr>\n",
       "    <tr>\n",
       "      <th>1</th>\n",
       "      <td>842517</td>\n",
       "      <td>M</td>\n",
       "      <td>20.57</td>\n",
       "      <td>17.77</td>\n",
       "      <td>132.90</td>\n",
       "      <td>1326.0</td>\n",
       "      <td>0.08474</td>\n",
       "      <td>0.07864</td>\n",
       "      <td>0.0869</td>\n",
       "      <td>0.07017</td>\n",
       "      <td>...</td>\n",
       "      <td>23.41</td>\n",
       "      <td>158.80</td>\n",
       "      <td>1956.0</td>\n",
       "      <td>0.1238</td>\n",
       "      <td>0.1866</td>\n",
       "      <td>0.2416</td>\n",
       "      <td>0.1860</td>\n",
       "      <td>0.2750</td>\n",
       "      <td>0.08902</td>\n",
       "      <td>NaN</td>\n",
       "    </tr>\n",
       "    <tr>\n",
       "      <th>2</th>\n",
       "      <td>84300903</td>\n",
       "      <td>M</td>\n",
       "      <td>19.69</td>\n",
       "      <td>21.25</td>\n",
       "      <td>130.00</td>\n",
       "      <td>1203.0</td>\n",
       "      <td>0.10960</td>\n",
       "      <td>0.15990</td>\n",
       "      <td>0.1974</td>\n",
       "      <td>0.12790</td>\n",
       "      <td>...</td>\n",
       "      <td>25.53</td>\n",
       "      <td>152.50</td>\n",
       "      <td>1709.0</td>\n",
       "      <td>0.1444</td>\n",
       "      <td>0.4245</td>\n",
       "      <td>0.4504</td>\n",
       "      <td>0.2430</td>\n",
       "      <td>0.3613</td>\n",
       "      <td>0.08758</td>\n",
       "      <td>NaN</td>\n",
       "    </tr>\n",
       "    <tr>\n",
       "      <th>3</th>\n",
       "      <td>84348301</td>\n",
       "      <td>M</td>\n",
       "      <td>11.42</td>\n",
       "      <td>20.38</td>\n",
       "      <td>77.58</td>\n",
       "      <td>386.1</td>\n",
       "      <td>0.14250</td>\n",
       "      <td>0.28390</td>\n",
       "      <td>0.2414</td>\n",
       "      <td>0.10520</td>\n",
       "      <td>...</td>\n",
       "      <td>26.50</td>\n",
       "      <td>98.87</td>\n",
       "      <td>567.7</td>\n",
       "      <td>0.2098</td>\n",
       "      <td>0.8663</td>\n",
       "      <td>0.6869</td>\n",
       "      <td>0.2575</td>\n",
       "      <td>0.6638</td>\n",
       "      <td>0.17300</td>\n",
       "      <td>NaN</td>\n",
       "    </tr>\n",
       "    <tr>\n",
       "      <th>4</th>\n",
       "      <td>84358402</td>\n",
       "      <td>M</td>\n",
       "      <td>20.29</td>\n",
       "      <td>14.34</td>\n",
       "      <td>135.10</td>\n",
       "      <td>1297.0</td>\n",
       "      <td>0.10030</td>\n",
       "      <td>0.13280</td>\n",
       "      <td>0.1980</td>\n",
       "      <td>0.10430</td>\n",
       "      <td>...</td>\n",
       "      <td>16.67</td>\n",
       "      <td>152.20</td>\n",
       "      <td>1575.0</td>\n",
       "      <td>0.1374</td>\n",
       "      <td>0.2050</td>\n",
       "      <td>0.4000</td>\n",
       "      <td>0.1625</td>\n",
       "      <td>0.2364</td>\n",
       "      <td>0.07678</td>\n",
       "      <td>NaN</td>\n",
       "    </tr>\n",
       "  </tbody>\n",
       "</table>\n",
       "<p>5 rows × 33 columns</p>\n",
       "</div>"
      ],
      "text/plain": [
       "         id diagnosis  radius_mean  texture_mean  perimeter_mean  area_mean  \\\n",
       "0    842302         M        17.99         10.38          122.80     1001.0   \n",
       "1    842517         M        20.57         17.77          132.90     1326.0   \n",
       "2  84300903         M        19.69         21.25          130.00     1203.0   \n",
       "3  84348301         M        11.42         20.38           77.58      386.1   \n",
       "4  84358402         M        20.29         14.34          135.10     1297.0   \n",
       "\n",
       "   smoothness_mean  compactness_mean  concavity_mean  concave points_mean  \\\n",
       "0          0.11840           0.27760          0.3001              0.14710   \n",
       "1          0.08474           0.07864          0.0869              0.07017   \n",
       "2          0.10960           0.15990          0.1974              0.12790   \n",
       "3          0.14250           0.28390          0.2414              0.10520   \n",
       "4          0.10030           0.13280          0.1980              0.10430   \n",
       "\n",
       "   ...  texture_worst  perimeter_worst  area_worst  smoothness_worst  \\\n",
       "0  ...          17.33           184.60      2019.0            0.1622   \n",
       "1  ...          23.41           158.80      1956.0            0.1238   \n",
       "2  ...          25.53           152.50      1709.0            0.1444   \n",
       "3  ...          26.50            98.87       567.7            0.2098   \n",
       "4  ...          16.67           152.20      1575.0            0.1374   \n",
       "\n",
       "   compactness_worst  concavity_worst  concave points_worst  symmetry_worst  \\\n",
       "0             0.6656           0.7119                0.2654          0.4601   \n",
       "1             0.1866           0.2416                0.1860          0.2750   \n",
       "2             0.4245           0.4504                0.2430          0.3613   \n",
       "3             0.8663           0.6869                0.2575          0.6638   \n",
       "4             0.2050           0.4000                0.1625          0.2364   \n",
       "\n",
       "   fractal_dimension_worst  Unnamed: 32  \n",
       "0                  0.11890          NaN  \n",
       "1                  0.08902          NaN  \n",
       "2                  0.08758          NaN  \n",
       "3                  0.17300          NaN  \n",
       "4                  0.07678          NaN  \n",
       "\n",
       "[5 rows x 33 columns]"
      ]
     },
     "execution_count": 2,
     "metadata": {},
     "output_type": "execute_result"
    }
   ],
   "source": [
    "df=pd.read_csv(\"data.csv\")\n",
    "df.head()"
   ]
  },
  {
   "cell_type": "code",
   "execution_count": 3,
   "id": "c0d85491",
   "metadata": {},
   "outputs": [],
   "source": [
    "df = df.drop(['Unnamed: 32'],axis=1)"
   ]
  },
  {
   "cell_type": "code",
   "execution_count": 4,
   "id": "646e1a62",
   "metadata": {},
   "outputs": [
    {
     "data": {
      "text/plain": [
       "0    357\n",
       "1    212\n",
       "Name: diagnosis, dtype: int64"
      ]
     },
     "execution_count": 4,
     "metadata": {},
     "output_type": "execute_result"
    }
   ],
   "source": [
    "df['diagnosis'] = df['diagnosis'].map({'B':0,'M':1})\n",
    "df['diagnosis'].value_counts()"
   ]
  },
  {
   "cell_type": "code",
   "execution_count": 5,
   "id": "5a7942bc",
   "metadata": {},
   "outputs": [
    {
     "data": {
      "text/plain": [
       "0    0.627417\n",
       "1    0.372583\n",
       "Name: diagnosis, dtype: float64"
      ]
     },
     "execution_count": 5,
     "metadata": {},
     "output_type": "execute_result"
    }
   ],
   "source": [
    "df['diagnosis'].value_counts(normalize=True)"
   ]
  },
  {
   "cell_type": "code",
   "execution_count": 6,
   "id": "6c93ac31",
   "metadata": {},
   "outputs": [],
   "source": [
    "X = df.drop('diagnosis', axis=1).values\n",
    "y = df['diagnosis'].values"
   ]
  },
  {
   "cell_type": "code",
   "execution_count": 7,
   "id": "10832f59",
   "metadata": {},
   "outputs": [],
   "source": [
    "from sklearn.model_selection import train_test_split\n",
    "X_train, X_test, y_train, y_test = train_test_split(X, y, test_size=0.2, random_state=101, stratify=y)\n",
    "n_cols = X_train.shape[1]"
   ]
  },
  {
   "cell_type": "code",
   "execution_count": 8,
   "id": "8c7fb653",
   "metadata": {},
   "outputs": [],
   "source": [
    "from sklearn.preprocessing import MinMaxScaler\n",
    "scaler = MinMaxScaler()\n",
    "X_train = scaler.fit_transform(X_train)\n",
    "X_test = scaler.transform(X_test)"
   ]
  },
  {
   "cell_type": "code",
   "execution_count": 9,
   "id": "dd99bce9",
   "metadata": {},
   "outputs": [],
   "source": [
    "import tensorflow as tf\n",
    "from tensorflow.keras.models import Sequential\n",
    "from tensorflow.keras.layers import Dense,Dropout, BatchNormalization\n",
    "from tensorflow.keras.callbacks import EarlyStopping, ModelCheckpoint"
   ]
  },
  {
   "cell_type": "code",
   "execution_count": 10,
   "id": "4f5c6cea",
   "metadata": {},
   "outputs": [],
   "source": [
    "# https://stats.stackexchange.com/questions/181/how-to-choose-the-number-of-hidden-layers-and-nodes-in-a-feedforward-neural-netw\n",
    "model = Sequential()\n",
    "model.add(Dense(50, activation = 'relu', input_shape=(n_cols,)))\n",
    "model.add(BatchNormalization())\n",
    "model.add(Dropout(.2))\n",
    "\n",
    "model.add(Dense(25, activation = 'relu',))\n",
    "model.add(BatchNormalization())\n",
    "model.add(Dropout(.2))\n",
    "\n",
    "model.add(Dense(11, activation = 'relu',))\n",
    "model.add(BatchNormalization())\n",
    "model.add(Dropout(.2))\n",
    "\n",
    "model.add(Dense(1, activation='sigmoid'))\n",
    "\n",
    "model.compile(loss='binary_crossentropy', optimizer='adam', metrics=['accuracy'])"
   ]
  },
  {
   "cell_type": "code",
   "execution_count": 11,
   "id": "4e1cb056",
   "metadata": {},
   "outputs": [],
   "source": [
    "early_stop = EarlyStopping(monitor='val_loss', patience=6, mode='min')\n",
    "file_path = \"saved_models/weights_improved{epoch:2d}-{val_accuracy:.2f}.hdf5\"\n",
    "checkpoint = ModelCheckpoint(file_path, monitor='val_accuracy',\n",
    "                             verbose=1,save_best_only=True,mode='max')"
   ]
  },
  {
   "cell_type": "code",
   "execution_count": 12,
   "id": "06e04628",
   "metadata": {},
   "outputs": [
    {
     "name": "stdout",
     "output_type": "stream",
     "text": [
      "Epoch 1/50\n",
      "1/4 [======>.......................] - ETA: 2s - loss: 1.2441 - accuracy: 0.3828\n",
      "Epoch 1: val_accuracy improved from -inf to 0.63158, saving model to saved_models\\weights_improved 1-0.63.hdf5\n",
      "4/4 [==============================] - 1s 82ms/step - loss: 1.1773 - accuracy: 0.4154 - val_loss: 0.6788 - val_accuracy: 0.6316\n",
      "Epoch 2/50\n",
      "1/4 [======>.......................] - ETA: 0s - loss: 0.8997 - accuracy: 0.5156\n",
      "Epoch 2: val_accuracy improved from 0.63158 to 0.66667, saving model to saved_models\\weights_improved 2-0.67.hdf5\n",
      "4/4 [==============================] - 0s 21ms/step - loss: 0.8793 - accuracy: 0.5363 - val_loss: 0.6640 - val_accuracy: 0.6667\n",
      "Epoch 3/50\n",
      "1/4 [======>.......................] - ETA: 0s - loss: 0.7551 - accuracy: 0.5938\n",
      "Epoch 3: val_accuracy improved from 0.66667 to 0.73684, saving model to saved_models\\weights_improved 3-0.74.hdf5\n",
      "4/4 [==============================] - 0s 20ms/step - loss: 0.6105 - accuracy: 0.6879 - val_loss: 0.6515 - val_accuracy: 0.7368\n",
      "Epoch 4/50\n",
      "1/4 [======>.......................] - ETA: 0s - loss: 0.5547 - accuracy: 0.7344\n",
      "Epoch 4: val_accuracy improved from 0.73684 to 0.74561, saving model to saved_models\\weights_improved 4-0.75.hdf5\n",
      "4/4 [==============================] - 0s 21ms/step - loss: 0.4985 - accuracy: 0.7538 - val_loss: 0.6431 - val_accuracy: 0.7456\n",
      "Epoch 5/50\n",
      "1/4 [======>.......................] - ETA: 0s - loss: 0.5093 - accuracy: 0.7578\n",
      "Epoch 5: val_accuracy improved from 0.74561 to 0.75439, saving model to saved_models\\weights_improved 5-0.75.hdf5\n",
      "4/4 [==============================] - 0s 18ms/step - loss: 0.4685 - accuracy: 0.7758 - val_loss: 0.6368 - val_accuracy: 0.7544\n",
      "Epoch 6/50\n",
      "1/4 [======>.......................] - ETA: 0s - loss: 0.4954 - accuracy: 0.7734\n",
      "Epoch 6: val_accuracy did not improve from 0.75439\n",
      "4/4 [==============================] - 0s 10ms/step - loss: 0.4507 - accuracy: 0.7802 - val_loss: 0.6310 - val_accuracy: 0.7544\n",
      "Epoch 7/50\n",
      "1/4 [======>.......................] - ETA: 0s - loss: 0.4222 - accuracy: 0.7812\n",
      "Epoch 7: val_accuracy improved from 0.75439 to 0.79825, saving model to saved_models\\weights_improved 7-0.80.hdf5\n",
      "4/4 [==============================] - 0s 18ms/step - loss: 0.4255 - accuracy: 0.7978 - val_loss: 0.6243 - val_accuracy: 0.7982\n",
      "Epoch 8/50\n",
      "1/4 [======>.......................] - ETA: 0s - loss: 0.3945 - accuracy: 0.8281\n",
      "Epoch 8: val_accuracy improved from 0.79825 to 0.82456, saving model to saved_models\\weights_improved 8-0.82.hdf5\n",
      "4/4 [==============================] - 0s 20ms/step - loss: 0.3891 - accuracy: 0.8220 - val_loss: 0.6160 - val_accuracy: 0.8246\n",
      "Epoch 9/50\n",
      "1/4 [======>.......................] - ETA: 0s - loss: 0.3514 - accuracy: 0.8750\n",
      "Epoch 9: val_accuracy improved from 0.82456 to 0.84211, saving model to saved_models\\weights_improved 9-0.84.hdf5\n",
      "4/4 [==============================] - 0s 19ms/step - loss: 0.3463 - accuracy: 0.8791 - val_loss: 0.6055 - val_accuracy: 0.8421\n",
      "Epoch 10/50\n",
      "1/4 [======>.......................] - ETA: 0s - loss: 0.3613 - accuracy: 0.8750\n",
      "Epoch 10: val_accuracy improved from 0.84211 to 0.85088, saving model to saved_models\\weights_improved10-0.85.hdf5\n",
      "4/4 [==============================] - 0s 19ms/step - loss: 0.3315 - accuracy: 0.8659 - val_loss: 0.5932 - val_accuracy: 0.8509\n",
      "Epoch 11/50\n",
      "1/4 [======>.......................] - ETA: 0s - loss: 0.3039 - accuracy: 0.8906\n",
      "Epoch 11: val_accuracy improved from 0.85088 to 0.87719, saving model to saved_models\\weights_improved11-0.88.hdf5\n",
      "4/4 [==============================] - 0s 18ms/step - loss: 0.3112 - accuracy: 0.8879 - val_loss: 0.5785 - val_accuracy: 0.8772\n",
      "Epoch 12/50\n",
      "1/4 [======>.......................] - ETA: 0s - loss: 0.2929 - accuracy: 0.8984\n",
      "Epoch 12: val_accuracy improved from 0.87719 to 0.89474, saving model to saved_models\\weights_improved12-0.89.hdf5\n",
      "4/4 [==============================] - 0s 19ms/step - loss: 0.3084 - accuracy: 0.8857 - val_loss: 0.5627 - val_accuracy: 0.8947\n",
      "Epoch 13/50\n",
      "1/4 [======>.......................] - ETA: 0s - loss: 0.3338 - accuracy: 0.8438\n",
      "Epoch 13: val_accuracy improved from 0.89474 to 0.92105, saving model to saved_models\\weights_improved13-0.92.hdf5\n",
      "4/4 [==============================] - 0s 20ms/step - loss: 0.2994 - accuracy: 0.8813 - val_loss: 0.5479 - val_accuracy: 0.9211\n",
      "Epoch 14/50\n",
      "1/4 [======>.......................] - ETA: 0s - loss: 0.2612 - accuracy: 0.8906\n",
      "Epoch 14: val_accuracy improved from 0.92105 to 0.92982, saving model to saved_models\\weights_improved14-0.93.hdf5\n",
      "4/4 [==============================] - 0s 19ms/step - loss: 0.2791 - accuracy: 0.8967 - val_loss: 0.5338 - val_accuracy: 0.9298\n",
      "Epoch 15/50\n",
      "1/4 [======>.......................] - ETA: 0s - loss: 0.3173 - accuracy: 0.9062\n",
      "Epoch 15: val_accuracy did not improve from 0.92982\n",
      "4/4 [==============================] - 0s 12ms/step - loss: 0.2729 - accuracy: 0.8989 - val_loss: 0.5202 - val_accuracy: 0.9298\n",
      "Epoch 16/50\n",
      "1/4 [======>.......................] - ETA: 0s - loss: 0.2875 - accuracy: 0.9062\n",
      "Epoch 16: val_accuracy improved from 0.92982 to 0.94737, saving model to saved_models\\weights_improved16-0.95.hdf5\n",
      "4/4 [==============================] - 0s 19ms/step - loss: 0.2512 - accuracy: 0.9143 - val_loss: 0.5055 - val_accuracy: 0.9474\n",
      "Epoch 17/50\n",
      "1/4 [======>.......................] - ETA: 0s - loss: 0.2476 - accuracy: 0.8828\n",
      "Epoch 17: val_accuracy improved from 0.94737 to 0.95614, saving model to saved_models\\weights_improved17-0.96.hdf5\n",
      "4/4 [==============================] - 0s 21ms/step - loss: 0.2551 - accuracy: 0.8967 - val_loss: 0.4912 - val_accuracy: 0.9561\n",
      "Epoch 18/50\n",
      "1/4 [======>.......................] - ETA: 0s - loss: 0.2652 - accuracy: 0.8984\n",
      "Epoch 18: val_accuracy did not improve from 0.95614\n",
      "4/4 [==============================] - 0s 11ms/step - loss: 0.2544 - accuracy: 0.8945 - val_loss: 0.4769 - val_accuracy: 0.9561\n",
      "Epoch 19/50\n",
      "1/4 [======>.......................] - ETA: 0s - loss: 0.2328 - accuracy: 0.9219\n",
      "Epoch 19: val_accuracy did not improve from 0.95614\n",
      "4/4 [==============================] - 0s 16ms/step - loss: 0.2207 - accuracy: 0.9275 - val_loss: 0.4633 - val_accuracy: 0.9561\n",
      "Epoch 20/50\n",
      "1/4 [======>.......................] - ETA: 0s - loss: 0.2025 - accuracy: 0.9375\n",
      "Epoch 20: val_accuracy did not improve from 0.95614\n",
      "4/4 [==============================] - 0s 13ms/step - loss: 0.2078 - accuracy: 0.9363 - val_loss: 0.4526 - val_accuracy: 0.9561\n",
      "Epoch 21/50\n",
      "1/4 [======>.......................] - ETA: 0s - loss: 0.2144 - accuracy: 0.8984\n",
      "Epoch 21: val_accuracy did not improve from 0.95614\n",
      "4/4 [==============================] - 0s 11ms/step - loss: 0.2031 - accuracy: 0.9143 - val_loss: 0.4410 - val_accuracy: 0.9561\n",
      "Epoch 22/50\n",
      "1/4 [======>.......................] - ETA: 0s - loss: 0.2145 - accuracy: 0.9375\n",
      "Epoch 22: val_accuracy did not improve from 0.95614\n",
      "4/4 [==============================] - 0s 10ms/step - loss: 0.1960 - accuracy: 0.9297 - val_loss: 0.4285 - val_accuracy: 0.9386\n",
      "Epoch 23/50\n",
      "1/4 [======>.......................] - ETA: 0s - loss: 0.1620 - accuracy: 0.9609\n",
      "Epoch 23: val_accuracy did not improve from 0.95614\n",
      "4/4 [==============================] - 0s 10ms/step - loss: 0.1831 - accuracy: 0.9363 - val_loss: 0.4161 - val_accuracy: 0.9386\n",
      "Epoch 24/50\n",
      "1/4 [======>.......................] - ETA: 0s - loss: 0.1858 - accuracy: 0.9453\n",
      "Epoch 24: val_accuracy did not improve from 0.95614\n",
      "4/4 [==============================] - 0s 9ms/step - loss: 0.1850 - accuracy: 0.9429 - val_loss: 0.4039 - val_accuracy: 0.9211\n",
      "Epoch 25/50\n",
      "1/4 [======>.......................] - ETA: 0s - loss: 0.2294 - accuracy: 0.9141\n",
      "Epoch 25: val_accuracy did not improve from 0.95614\n",
      "4/4 [==============================] - 0s 13ms/step - loss: 0.1756 - accuracy: 0.9473 - val_loss: 0.3916 - val_accuracy: 0.9123\n",
      "Epoch 26/50\n",
      "1/4 [======>.......................] - ETA: 0s - loss: 0.1827 - accuracy: 0.9453\n",
      "Epoch 26: val_accuracy did not improve from 0.95614\n",
      "4/4 [==============================] - 0s 9ms/step - loss: 0.1672 - accuracy: 0.9582 - val_loss: 0.3795 - val_accuracy: 0.9123\n",
      "Epoch 27/50\n",
      "1/4 [======>.......................] - ETA: 0s - loss: 0.1553 - accuracy: 0.9531\n",
      "Epoch 27: val_accuracy did not improve from 0.95614\n",
      "4/4 [==============================] - 0s 10ms/step - loss: 0.1724 - accuracy: 0.9429 - val_loss: 0.3690 - val_accuracy: 0.9035\n"
     ]
    },
    {
     "name": "stdout",
     "output_type": "stream",
     "text": [
      "Epoch 28/50\n",
      "1/4 [======>.......................] - ETA: 0s - loss: 0.1838 - accuracy: 0.9453\n",
      "Epoch 28: val_accuracy did not improve from 0.95614\n",
      "4/4 [==============================] - 0s 9ms/step - loss: 0.1668 - accuracy: 0.9451 - val_loss: 0.3585 - val_accuracy: 0.8947\n",
      "Epoch 29/50\n",
      "1/4 [======>.......................] - ETA: 0s - loss: 0.1874 - accuracy: 0.9453\n",
      "Epoch 29: val_accuracy did not improve from 0.95614\n",
      "4/4 [==============================] - 0s 10ms/step - loss: 0.1616 - accuracy: 0.9407 - val_loss: 0.3492 - val_accuracy: 0.8947\n",
      "Epoch 30/50\n",
      "1/4 [======>.......................] - ETA: 0s - loss: 0.1421 - accuracy: 0.9609\n",
      "Epoch 30: val_accuracy did not improve from 0.95614\n",
      "4/4 [==============================] - 0s 10ms/step - loss: 0.1514 - accuracy: 0.9516 - val_loss: 0.3405 - val_accuracy: 0.8947\n",
      "Epoch 31/50\n",
      "1/4 [======>.......................] - ETA: 0s - loss: 0.1161 - accuracy: 0.9922\n",
      "Epoch 31: val_accuracy did not improve from 0.95614\n",
      "4/4 [==============================] - 0s 10ms/step - loss: 0.1357 - accuracy: 0.9648 - val_loss: 0.3296 - val_accuracy: 0.8947\n",
      "Epoch 32/50\n",
      "1/4 [======>.......................] - ETA: 0s - loss: 0.1567 - accuracy: 0.9531\n",
      "Epoch 32: val_accuracy did not improve from 0.95614\n",
      "4/4 [==============================] - 0s 11ms/step - loss: 0.1521 - accuracy: 0.9560 - val_loss: 0.3187 - val_accuracy: 0.9035\n",
      "Epoch 33/50\n",
      "1/4 [======>.......................] - ETA: 0s - loss: 0.1046 - accuracy: 0.9844\n",
      "Epoch 33: val_accuracy did not improve from 0.95614\n",
      "4/4 [==============================] - 0s 11ms/step - loss: 0.1419 - accuracy: 0.9626 - val_loss: 0.3076 - val_accuracy: 0.9035\n",
      "Epoch 34/50\n",
      "1/4 [======>.......................] - ETA: 0s - loss: 0.1431 - accuracy: 0.9375\n",
      "Epoch 34: val_accuracy did not improve from 0.95614\n",
      "4/4 [==============================] - 0s 10ms/step - loss: 0.1265 - accuracy: 0.9560 - val_loss: 0.2995 - val_accuracy: 0.9035\n",
      "Epoch 35/50\n",
      "1/4 [======>.......................] - ETA: 0s - loss: 0.1332 - accuracy: 0.9688\n",
      "Epoch 35: val_accuracy did not improve from 0.95614\n",
      "4/4 [==============================] - 0s 10ms/step - loss: 0.1394 - accuracy: 0.9604 - val_loss: 0.2924 - val_accuracy: 0.9035\n",
      "Epoch 36/50\n",
      "1/4 [======>.......................] - ETA: 0s - loss: 0.1486 - accuracy: 0.9453\n",
      "Epoch 36: val_accuracy did not improve from 0.95614\n",
      "4/4 [==============================] - 0s 11ms/step - loss: 0.1264 - accuracy: 0.9604 - val_loss: 0.2867 - val_accuracy: 0.9035\n",
      "Epoch 37/50\n",
      "1/4 [======>.......................] - ETA: 0s - loss: 0.1294 - accuracy: 0.9609\n",
      "Epoch 37: val_accuracy did not improve from 0.95614\n",
      "4/4 [==============================] - 0s 10ms/step - loss: 0.1388 - accuracy: 0.9560 - val_loss: 0.2797 - val_accuracy: 0.9035\n",
      "Epoch 38/50\n",
      "1/4 [======>.......................] - ETA: 0s - loss: 0.1122 - accuracy: 0.9844\n",
      "Epoch 38: val_accuracy did not improve from 0.95614\n",
      "4/4 [==============================] - 0s 10ms/step - loss: 0.1341 - accuracy: 0.9648 - val_loss: 0.2720 - val_accuracy: 0.9035\n",
      "Epoch 39/50\n",
      "1/4 [======>.......................] - ETA: 0s - loss: 0.1005 - accuracy: 0.9688\n",
      "Epoch 39: val_accuracy did not improve from 0.95614\n",
      "4/4 [==============================] - 0s 10ms/step - loss: 0.1331 - accuracy: 0.9582 - val_loss: 0.2658 - val_accuracy: 0.9035\n",
      "Epoch 40/50\n",
      "1/4 [======>.......................] - ETA: 0s - loss: 0.1620 - accuracy: 0.9375\n",
      "Epoch 40: val_accuracy did not improve from 0.95614\n",
      "4/4 [==============================] - 0s 10ms/step - loss: 0.1282 - accuracy: 0.9582 - val_loss: 0.2592 - val_accuracy: 0.9035\n",
      "Epoch 41/50\n",
      "1/4 [======>.......................] - ETA: 0s - loss: 0.1134 - accuracy: 0.9609\n",
      "Epoch 41: val_accuracy did not improve from 0.95614\n",
      "4/4 [==============================] - 0s 10ms/step - loss: 0.1448 - accuracy: 0.9495 - val_loss: 0.2511 - val_accuracy: 0.9035\n",
      "Epoch 42/50\n",
      "1/4 [======>.......................] - ETA: 0s - loss: 0.1403 - accuracy: 0.9609\n",
      "Epoch 42: val_accuracy did not improve from 0.95614\n",
      "4/4 [==============================] - 0s 10ms/step - loss: 0.1092 - accuracy: 0.9758 - val_loss: 0.2434 - val_accuracy: 0.9035\n",
      "Epoch 43/50\n",
      "1/4 [======>.......................] - ETA: 0s - loss: 0.1036 - accuracy: 0.9688\n",
      "Epoch 43: val_accuracy did not improve from 0.95614\n",
      "4/4 [==============================] - 0s 10ms/step - loss: 0.1134 - accuracy: 0.9626 - val_loss: 0.2349 - val_accuracy: 0.9123\n",
      "Epoch 44/50\n",
      "1/4 [======>.......................] - ETA: 0s - loss: 0.1199 - accuracy: 0.9766\n",
      "Epoch 44: val_accuracy did not improve from 0.95614\n",
      "4/4 [==============================] - 0s 10ms/step - loss: 0.1106 - accuracy: 0.9714 - val_loss: 0.2266 - val_accuracy: 0.9123\n",
      "Epoch 45/50\n",
      "1/4 [======>.......................] - ETA: 0s - loss: 0.1088 - accuracy: 0.9688\n",
      "Epoch 45: val_accuracy did not improve from 0.95614\n",
      "4/4 [==============================] - 0s 10ms/step - loss: 0.1115 - accuracy: 0.9626 - val_loss: 0.2191 - val_accuracy: 0.9298\n",
      "Epoch 46/50\n",
      "1/4 [======>.......................] - ETA: 0s - loss: 0.0910 - accuracy: 0.9688\n",
      "Epoch 46: val_accuracy did not improve from 0.95614\n",
      "4/4 [==============================] - 0s 10ms/step - loss: 0.1185 - accuracy: 0.9604 - val_loss: 0.2124 - val_accuracy: 0.9298\n",
      "Epoch 47/50\n",
      "1/4 [======>.......................] - ETA: 0s - loss: 0.1258 - accuracy: 0.9375\n",
      "Epoch 47: val_accuracy did not improve from 0.95614\n",
      "4/4 [==============================] - 0s 10ms/step - loss: 0.1210 - accuracy: 0.9582 - val_loss: 0.2077 - val_accuracy: 0.9298\n",
      "Epoch 48/50\n",
      "1/4 [======>.......................] - ETA: 0s - loss: 0.0757 - accuracy: 0.9766\n",
      "Epoch 48: val_accuracy did not improve from 0.95614\n",
      "4/4 [==============================] - 0s 10ms/step - loss: 0.1020 - accuracy: 0.9736 - val_loss: 0.2031 - val_accuracy: 0.9386\n",
      "Epoch 49/50\n",
      "1/4 [======>.......................] - ETA: 0s - loss: 0.1085 - accuracy: 0.9531\n",
      "Epoch 49: val_accuracy did not improve from 0.95614\n",
      "4/4 [==============================] - 0s 9ms/step - loss: 0.1193 - accuracy: 0.9582 - val_loss: 0.1976 - val_accuracy: 0.9386\n",
      "Epoch 50/50\n",
      "1/4 [======>.......................] - ETA: 0s - loss: 0.1093 - accuracy: 0.9844\n",
      "Epoch 50: val_accuracy did not improve from 0.95614\n",
      "4/4 [==============================] - 0s 10ms/step - loss: 0.1058 - accuracy: 0.9692 - val_loss: 0.1932 - val_accuracy: 0.9386\n"
     ]
    }
   ],
   "source": [
    "result = model.fit(X_train, y_train, \n",
    "          epochs=50, \n",
    "          batch_size=128, \n",
    "          validation_data=(X_test,y_test),\n",
    "          callbacks=[early_stop, checkpoint])"
   ]
  },
  {
   "cell_type": "code",
   "execution_count": 13,
   "id": "47593759",
   "metadata": {},
   "outputs": [],
   "source": [
    "loss_df = pd.DataFrame(model.history.history)"
   ]
  },
  {
   "cell_type": "code",
   "execution_count": 14,
   "id": "59362c0a",
   "metadata": {},
   "outputs": [],
   "source": [
    "import matplotlib.pyplot as plt"
   ]
  },
  {
   "cell_type": "code",
   "execution_count": 15,
   "id": "2162fea4",
   "metadata": {},
   "outputs": [
    {
     "data": {
      "text/plain": [
       "<matplotlib.legend.Legend at 0x1bf82ac4850>"
      ]
     },
     "execution_count": 15,
     "metadata": {},
     "output_type": "execute_result"
    },
    {
     "data": {
      "image/png": "[encoded data removed]",
      "text/plain": [
       "<Figure size 640x480 with 1 Axes>"
      ]
     },
     "metadata": {},
     "output_type": "display_data"
    }
   ],
   "source": [
    "plt.plot(loss_df['loss'], label='Training loss')\n",
    "plt.plot(loss_df['val_loss'], label='Validation loss')\n",
    "plt.legend()"
   ]
  },
  {
   "cell_type": "code",
   "execution_count": 16,
   "id": "0ac5cef0",
   "metadata": {},
   "outputs": [
    {
     "data": {
      "text/plain": [
       "<matplotlib.legend.Legend at 0x1bfffbd3ca0>"
      ]
     },
     "execution_count": 16,
     "metadata": {},
     "output_type": "execute_result"
    },
    {
     "data": {
      "image/png": "[encoded data removed]",
      "text/plain": [
       "<Figure size 640x480 with 1 Axes>"
      ]
     },
     "metadata": {},
     "output_type": "display_data"
    }
   ],
   "source": [
    "plt.plot(loss_df['accuracy'], label='Training accuracy')\n",
    "plt.plot(loss_df['val_accuracy'], label='Validation accuracy')\n",
    "plt.legend()"
   ]
  },
  {
   "cell_type": "code",
   "execution_count": 17,
   "id": "e529d149",
   "metadata": {},
   "outputs": [],
   "source": [
    "from sklearn.metrics import classification_report, confusion_matrix, accuracy_score"
   ]
  },
  {
   "cell_type": "code",
   "execution_count": 18,
   "id": "4e4740db",
   "metadata": {},
   "outputs": [
    {
     "name": "stdout",
     "output_type": "stream",
     "text": [
      "4/4 [==============================] - 0s 3ms/step\n"
     ]
    }
   ],
   "source": [
    "y_pred = model.predict(X_test)\n",
    "y_pred = y_pred.round()"
   ]
  },
  {
   "cell_type": "code",
   "execution_count": 19,
   "id": "7b137955",
   "metadata": {},
   "outputs": [
    {
     "name": "stdout",
     "output_type": "stream",
     "text": [
      "              precision    recall  f1-score   support\n",
      "\n",
      "           0       0.96      0.94      0.95        72\n",
      "           1       0.91      0.93      0.92        42\n",
      "\n",
      "    accuracy                           0.94       114\n",
      "   macro avg       0.93      0.94      0.93       114\n",
      "weighted avg       0.94      0.94      0.94       114\n",
      "\n"
     ]
    }
   ],
   "source": [
    "print(classification_report(y_test, y_pred))"
   ]
  },
  {
   "cell_type": "code",
   "execution_count": 20,
   "id": "2349ceab",
   "metadata": {},
   "outputs": [],
   "source": [
    "model.save(\"breast_cancer.h5\")"
   ]
  },
  {
   "cell_type": "code",
   "execution_count": null,
   "id": "ab05e491",
   "metadata": {},
   "outputs": [],
   "source": []
  }
 ],
 "metadata": {
  "kernelspec": {
   "display_name": "Python 3 (ipykernel)",
   "language": "python",
   "name": "python3"
  },
  "language_info": {
   "codemirror_mode": {
    "name": "ipython",
    "version": 3
   },
   "file_extension": ".py",
   "mimetype": "text/x-python",
   "name": "python",
   "nbconvert_exporter": "python",
   "pygments_lexer": "ipython3",
   "version": "3.9.6"
  }
 },
 "nbformat": 4,
 "nbformat_minor": 5
}
