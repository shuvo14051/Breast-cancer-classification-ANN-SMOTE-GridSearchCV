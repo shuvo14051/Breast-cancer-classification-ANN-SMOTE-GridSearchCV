{
 "cells": [
  {
   "cell_type": "code",
   "execution_count": 1,
   "id": "080d2b6c",
   "metadata": {},
   "outputs": [],
   "source": [
    "import numpy as np\n",
    "import pandas as pd"
   ]
  },
  {
   "cell_type": "code",
   "execution_count": 2,
   "id": "cb38433d",
   "metadata": {},
   "outputs": [
    {
     "data": {
      "text/html": [
       "<div>\n",
       "<style scoped>\n",
       "    .dataframe tbody tr th:only-of-type {\n",
       "        vertical-align: middle;\n",
       "    }\n",
       "\n",
       "    .dataframe tbody tr th {\n",
       "        vertical-align: top;\n",
       "    }\n",
       "\n",
       "    .dataframe thead th {\n",
       "        text-align: right;\n",
       "    }\n",
       "</style>\n",
       "<table border=\"1\" class=\"dataframe\">\n",
       "  <thead>\n",
       "    <tr style=\"text-align: right;\">\n",
       "      <th></th>\n",
       "      <th>id</th>\n",
       "      <th>diagnosis</th>\n",
       "      <th>radius_mean</th>\n",
       "      <th>texture_mean</th>\n",
       "      <th>perimeter_mean</th>\n",
       "      <th>area_mean</th>\n",
       "      <th>smoothness_mean</th>\n",
       "      <th>compactness_mean</th>\n",
       "      <th>concavity_mean</th>\n",
       "      <th>concave points_mean</th>\n",
       "      <th>...</th>\n",
       "      <th>texture_worst</th>\n",
       "      <th>perimeter_worst</th>\n",
       "      <th>area_worst</th>\n",
       "      <th>smoothness_worst</th>\n",
       "      <th>compactness_worst</th>\n",
       "      <th>concavity_worst</th>\n",
       "      <th>concave points_worst</th>\n",
       "      <th>symmetry_worst</th>\n",
       "      <th>fractal_dimension_worst</th>\n",
       "      <th>Unnamed: 32</th>\n",
       "    </tr>\n",
       "  </thead>\n",
       "  <tbody>\n",
       "    <tr>\n",
       "      <th>0</th>\n",
       "      <td>842302</td>\n",
       "      <td>M</td>\n",
       "      <td>17.99</td>\n",
       "      <td>10.38</td>\n",
       "      <td>122.80</td>\n",
       "      <td>1001.0</td>\n",
       "      <td>0.11840</td>\n",
       "      <td>0.27760</td>\n",
       "      <td>0.3001</td>\n",
       "      <td>0.14710</td>\n",
       "      <td>...</td>\n",
       "      <td>17.33</td>\n",
       "      <td>184.60</td>\n",
       "      <td>2019.0</td>\n",
       "      <td>0.1622</td>\n",
       "      <td>0.6656</td>\n",
       "      <td>0.7119</td>\n",
       "      <td>0.2654</td>\n",
       "      <td>0.4601</td>\n",
       "      <td>0.11890</td>\n",
       "      <td>NaN</td>\n",
       "    </tr>\n",
       "    <tr>\n",
       "      <th>1</th>\n",
       "      <td>842517</td>\n",
       "      <td>M</td>\n",
       "      <td>20.57</td>\n",
       "      <td>17.77</td>\n",
       "      <td>132.90</td>\n",
       "      <td>1326.0</td>\n",
       "      <td>0.08474</td>\n",
       "      <td>0.07864</td>\n",
       "      <td>0.0869</td>\n",
       "      <td>0.07017</td>\n",
       "      <td>...</td>\n",
       "      <td>23.41</td>\n",
       "      <td>158.80</td>\n",
       "      <td>1956.0</td>\n",
       "      <td>0.1238</td>\n",
       "      <td>0.1866</td>\n",
       "      <td>0.2416</td>\n",
       "      <td>0.1860</td>\n",
       "      <td>0.2750</td>\n",
       "      <td>0.08902</td>\n",
       "      <td>NaN</td>\n",
       "    </tr>\n",
       "    <tr>\n",
       "      <th>2</th>\n",
       "      <td>84300903</td>\n",
       "      <td>M</td>\n",
       "      <td>19.69</td>\n",
       "      <td>21.25</td>\n",
       "      <td>130.00</td>\n",
       "      <td>1203.0</td>\n",
       "      <td>0.10960</td>\n",
       "      <td>0.15990</td>\n",
       "      <td>0.1974</td>\n",
       "      <td>0.12790</td>\n",
       "      <td>...</td>\n",
       "      <td>25.53</td>\n",
       "      <td>152.50</td>\n",
       "      <td>1709.0</td>\n",
       "      <td>0.1444</td>\n",
       "      <td>0.4245</td>\n",
       "      <td>0.4504</td>\n",
       "      <td>0.2430</td>\n",
       "      <td>0.3613</td>\n",
       "      <td>0.08758</td>\n",
       "      <td>NaN</td>\n",
       "    </tr>\n",
       "    <tr>\n",
       "      <th>3</th>\n",
       "      <td>84348301</td>\n",
       "      <td>M</td>\n",
       "      <td>11.42</td>\n",
       "      <td>20.38</td>\n",
       "      <td>77.58</td>\n",
       "      <td>386.1</td>\n",
       "      <td>0.14250</td>\n",
       "      <td>0.28390</td>\n",
       "      <td>0.2414</td>\n",
       "      <td>0.10520</td>\n",
       "      <td>...</td>\n",
       "      <td>26.50</td>\n",
       "      <td>98.87</td>\n",
       "      <td>567.7</td>\n",
       "      <td>0.2098</td>\n",
       "      <td>0.8663</td>\n",
       "      <td>0.6869</td>\n",
       "      <td>0.2575</td>\n",
       "      <td>0.6638</td>\n",
       "      <td>0.17300</td>\n",
       "      <td>NaN</td>\n",
       "    </tr>\n",
       "    <tr>\n",
       "      <th>4</th>\n",
       "      <td>84358402</td>\n",
       "      <td>M</td>\n",
       "      <td>20.29</td>\n",
       "      <td>14.34</td>\n",
       "      <td>135.10</td>\n",
       "      <td>1297.0</td>\n",
       "      <td>0.10030</td>\n",
       "      <td>0.13280</td>\n",
       "      <td>0.1980</td>\n",
       "      <td>0.10430</td>\n",
       "      <td>...</td>\n",
       "      <td>16.67</td>\n",
       "      <td>152.20</td>\n",
       "      <td>1575.0</td>\n",
       "      <td>0.1374</td>\n",
       "      <td>0.2050</td>\n",
       "      <td>0.4000</td>\n",
       "      <td>0.1625</td>\n",
       "      <td>0.2364</td>\n",
       "      <td>0.07678</td>\n",
       "      <td>NaN</td>\n",
       "    </tr>\n",
       "  </tbody>\n",
       "</table>\n",
       "<p>5 rows × 33 columns</p>\n",
       "</div>"
      ],
      "text/plain": [
       "         id diagnosis  radius_mean  texture_mean  perimeter_mean  area_mean  \\\n",
       "0    842302         M        17.99         10.38          122.80     1001.0   \n",
       "1    842517         M        20.57         17.77          132.90     1326.0   \n",
       "2  84300903         M        19.69         21.25          130.00     1203.0   \n",
       "3  84348301         M        11.42         20.38           77.58      386.1   \n",
       "4  84358402         M        20.29         14.34          135.10     1297.0   \n",
       "\n",
       "   smoothness_mean  compactness_mean  concavity_mean  concave points_mean  \\\n",
       "0          0.11840           0.27760          0.3001              0.14710   \n",
       "1          0.08474           0.07864          0.0869              0.07017   \n",
       "2          0.10960           0.15990          0.1974              0.12790   \n",
       "3          0.14250           0.28390          0.2414              0.10520   \n",
       "4          0.10030           0.13280          0.1980              0.10430   \n",
       "\n",
       "   ...  texture_worst  perimeter_worst  area_worst  smoothness_worst  \\\n",
       "0  ...          17.33           184.60      2019.0            0.1622   \n",
       "1  ...          23.41           158.80      1956.0            0.1238   \n",
       "2  ...          25.53           152.50      1709.0            0.1444   \n",
       "3  ...          26.50            98.87       567.7            0.2098   \n",
       "4  ...          16.67           152.20      1575.0            0.1374   \n",
       "\n",
       "   compactness_worst  concavity_worst  concave points_worst  symmetry_worst  \\\n",
       "0             0.6656           0.7119                0.2654          0.4601   \n",
       "1             0.1866           0.2416                0.1860          0.2750   \n",
       "2             0.4245           0.4504                0.2430          0.3613   \n",
       "3             0.8663           0.6869                0.2575          0.6638   \n",
       "4             0.2050           0.4000                0.1625          0.2364   \n",
       "\n",
       "   fractal_dimension_worst  Unnamed: 32  \n",
       "0                  0.11890          NaN  \n",
       "1                  0.08902          NaN  \n",
       "2                  0.08758          NaN  \n",
       "3                  0.17300          NaN  \n",
       "4                  0.07678          NaN  \n",
       "\n",
       "[5 rows x 33 columns]"
      ]
     },
     "execution_count": 2,
     "metadata": {},
     "output_type": "execute_result"
    }
   ],
   "source": [
    "df=pd.read_csv(\"data.csv\")\n",
    "df.head()"
   ]
  },
  {
   "cell_type": "code",
   "execution_count": 3,
   "id": "c0d85491",
   "metadata": {},
   "outputs": [],
   "source": [
    "df = df.drop(['Unnamed: 32'],axis=1)"
   ]
  },
  {
   "cell_type": "code",
   "execution_count": 4,
   "id": "646e1a62",
   "metadata": {},
   "outputs": [
    {
     "data": {
      "text/plain": [
       "0    357\n",
       "1    212\n",
       "Name: diagnosis, dtype: int64"
      ]
     },
     "execution_count": 4,
     "metadata": {},
     "output_type": "execute_result"
    }
   ],
   "source": [
    "df['diagnosis'] = df['diagnosis'].map({'B':0,'M':1})\n",
    "df['diagnosis'].value_counts()"
   ]
  },
  {
   "cell_type": "code",
   "execution_count": 5,
   "id": "5a7942bc",
   "metadata": {},
   "outputs": [
    {
     "data": {
      "text/plain": [
       "0    0.627417\n",
       "1    0.372583\n",
       "Name: diagnosis, dtype: float64"
      ]
     },
     "execution_count": 5,
     "metadata": {},
     "output_type": "execute_result"
    }
   ],
   "source": [
    "df['diagnosis'].value_counts(normalize=True)"
   ]
  },
  {
   "cell_type": "code",
   "execution_count": 6,
   "id": "6c93ac31",
   "metadata": {},
   "outputs": [],
   "source": [
    "X = df.drop('diagnosis', axis=1).values\n",
    "y = df['diagnosis'].values"
   ]
  },
  {
   "cell_type": "markdown",
   "id": "cdb0de11",
   "metadata": {},
   "source": [
    "import seaborn as sns\n",
    "import matplotlib.pyplot as plt\n",
    "sns.set_theme(style=\"darkgrid\")\n",
    "sns.countplot(y=y, data=df, palette=\"mako_r\")\n",
    "plt.title(\"Result before oversampling\")\n",
    "plt.ylabel('Loan Status')\n",
    "plt.xlabel('Total')\n",
    "plt.show()\n",
    "\n",
    "from imblearn.over_sampling import SMOTE, ADASYN, SVMSMOTE\n",
    "from imblearn.combine import SMOTETomek,SMOTEENN\n",
    "from imblearn.under_sampling import NearMiss\n",
    "nm = SMOTE()\n",
    "X, y = nm.fit_resample(X, y)\n",
    "\n",
    "sns.set_theme(style=\"darkgrid\")\n",
    "sns.countplot(y=y, data=df, palette=\"mako_r\")\n",
    "plt.title(\"Result after oversampling\")\n",
    "plt.ylabel('Loan Status')\n",
    "plt.xlabel('Total')\n",
    "plt.show()"
   ]
  },
  {
   "cell_type": "code",
   "execution_count": 8,
   "id": "10832f59",
   "metadata": {},
   "outputs": [],
   "source": [
    "from sklearn.model_selection import train_test_split\n",
    "X_train, X_test, y_train, y_test = train_test_split(X, y, test_size=0.2, random_state=101, stratify=y)\n",
    "n_cols = X_train.shape[1]"
   ]
  },
  {
   "cell_type": "code",
   "execution_count": 9,
   "id": "8c7fb653",
   "metadata": {},
   "outputs": [],
   "source": [
    "from sklearn.preprocessing import MinMaxScaler\n",
    "scaler = MinMaxScaler()\n",
    "X_train = scaler.fit_transform(X_train)\n",
    "X_test = scaler.transform(X_test)"
   ]
  },
  {
   "cell_type": "code",
   "execution_count": 10,
   "id": "dd99bce9",
   "metadata": {},
   "outputs": [],
   "source": [
    "import tensorflow as tf\n",
    "from tensorflow.keras.models import Sequential\n",
    "from tensorflow.keras.layers import Dense,Dropout, BatchNormalization\n",
    "from tensorflow.keras.callbacks import EarlyStopping"
   ]
  },
  {
   "cell_type": "code",
   "execution_count": 11,
   "id": "4f5c6cea",
   "metadata": {},
   "outputs": [],
   "source": [
    "# https://stats.stackexchange.com/questions/181/how-to-choose-the-number-of-hidden-layers-and-nodes-in-a-feedforward-neural-netw\n",
    "model = Sequential()\n",
    "model.add(Dense(50, activation = 'relu', input_shape=(n_cols,)))\n",
    "model.add(BatchNormalization())\n",
    "model.add(Dropout(.2))\n",
    "\n",
    "model.add(Dense(25, activation = 'relu',))\n",
    "model.add(BatchNormalization())\n",
    "model.add(Dropout(.2))\n",
    "\n",
    "model.add(Dense(11, activation = 'relu',))\n",
    "model.add(BatchNormalization())\n",
    "model.add(Dropout(.2))\n",
    "\n",
    "model.add(Dense(1, activation='sigmoid'))\n",
    "\n",
    "model.compile(loss='binary_crossentropy', optimizer='adam', metrics=['accuracy'])"
   ]
  },
  {
   "cell_type": "code",
   "execution_count": 12,
   "id": "4e1cb056",
   "metadata": {},
   "outputs": [],
   "source": [
    "early_stop = EarlyStopping(monitor='val_loss', patience=6, mode='min')"
   ]
  },
  {
   "cell_type": "code",
   "execution_count": 13,
   "id": "06e04628",
   "metadata": {},
   "outputs": [
    {
     "name": "stdout",
     "output_type": "stream",
     "text": [
      "Epoch 1/100\n",
      "5/5 [==============================] - 1s 56ms/step - loss: 0.7465 - accuracy: 0.5534 - val_loss: 0.6929 - val_accuracy: 0.4965\n",
      "Epoch 2/100\n",
      "5/5 [==============================] - 0s 12ms/step - loss: 0.6119 - accuracy: 0.6743 - val_loss: 0.6916 - val_accuracy: 0.5245\n",
      "Epoch 3/100\n",
      "5/5 [==============================] - 0s 21ms/step - loss: 0.5309 - accuracy: 0.7688 - val_loss: 0.6943 - val_accuracy: 0.5035\n",
      "Epoch 4/100\n",
      "5/5 [==============================] - 0s 24ms/step - loss: 0.4661 - accuracy: 0.8231 - val_loss: 0.6949 - val_accuracy: 0.5035\n",
      "Epoch 5/100\n",
      "5/5 [==============================] - 0s 22ms/step - loss: 0.4444 - accuracy: 0.8529 - val_loss: 0.6940 - val_accuracy: 0.5035\n",
      "Epoch 6/100\n",
      "5/5 [==============================] - 0s 23ms/step - loss: 0.4230 - accuracy: 0.8599 - val_loss: 0.6925 - val_accuracy: 0.5035\n",
      "Epoch 7/100\n",
      "5/5 [==============================] - 0s 24ms/step - loss: 0.3669 - accuracy: 0.8932 - val_loss: 0.6906 - val_accuracy: 0.5035\n",
      "Epoch 8/100\n",
      "5/5 [==============================] - 0s 25ms/step - loss: 0.3442 - accuracy: 0.9054 - val_loss: 0.6877 - val_accuracy: 0.5035\n",
      "Epoch 9/100\n",
      "5/5 [==============================] - 0s 26ms/step - loss: 0.3267 - accuracy: 0.9194 - val_loss: 0.6829 - val_accuracy: 0.5105\n",
      "Epoch 10/100\n",
      "5/5 [==============================] - 0s 24ms/step - loss: 0.3107 - accuracy: 0.9212 - val_loss: 0.6775 - val_accuracy: 0.5105\n",
      "Epoch 11/100\n",
      "5/5 [==============================] - 0s 23ms/step - loss: 0.2959 - accuracy: 0.9229 - val_loss: 0.6707 - val_accuracy: 0.5105\n",
      "Epoch 12/100\n",
      "5/5 [==============================] - 0s 24ms/step - loss: 0.2803 - accuracy: 0.9352 - val_loss: 0.6631 - val_accuracy: 0.5105\n",
      "Epoch 13/100\n",
      "5/5 [==============================] - 0s 25ms/step - loss: 0.2708 - accuracy: 0.9335 - val_loss: 0.6560 - val_accuracy: 0.5245\n",
      "Epoch 14/100\n",
      "5/5 [==============================] - 0s 26ms/step - loss: 0.2627 - accuracy: 0.9282 - val_loss: 0.6460 - val_accuracy: 0.5245\n",
      "Epoch 15/100\n",
      "5/5 [==============================] - 0s 27ms/step - loss: 0.2413 - accuracy: 0.9527 - val_loss: 0.6367 - val_accuracy: 0.5315\n",
      "Epoch 16/100\n",
      "5/5 [==============================] - 0s 26ms/step - loss: 0.2309 - accuracy: 0.9545 - val_loss: 0.6268 - val_accuracy: 0.5524\n",
      "Epoch 17/100\n",
      "5/5 [==============================] - 0s 25ms/step - loss: 0.2344 - accuracy: 0.9405 - val_loss: 0.6157 - val_accuracy: 0.5734\n",
      "Epoch 18/100\n",
      "5/5 [==============================] - 0s 26ms/step - loss: 0.2169 - accuracy: 0.9580 - val_loss: 0.6005 - val_accuracy: 0.6014\n",
      "Epoch 19/100\n",
      "5/5 [==============================] - 0s 22ms/step - loss: 0.2028 - accuracy: 0.9562 - val_loss: 0.5868 - val_accuracy: 0.6434\n",
      "Epoch 20/100\n",
      "5/5 [==============================] - 0s 27ms/step - loss: 0.2157 - accuracy: 0.9440 - val_loss: 0.5742 - val_accuracy: 0.6573\n",
      "Epoch 21/100\n",
      "5/5 [==============================] - 0s 24ms/step - loss: 0.1832 - accuracy: 0.9650 - val_loss: 0.5623 - val_accuracy: 0.6783\n",
      "Epoch 22/100\n",
      "5/5 [==============================] - 0s 25ms/step - loss: 0.1834 - accuracy: 0.9492 - val_loss: 0.5499 - val_accuracy: 0.6783\n",
      "Epoch 23/100\n",
      "5/5 [==============================] - 0s 28ms/step - loss: 0.1779 - accuracy: 0.9685 - val_loss: 0.5360 - val_accuracy: 0.6853\n",
      "Epoch 24/100\n",
      "5/5 [==============================] - 0s 23ms/step - loss: 0.1723 - accuracy: 0.9580 - val_loss: 0.5213 - val_accuracy: 0.7063\n",
      "Epoch 25/100\n",
      "5/5 [==============================] - 0s 25ms/step - loss: 0.1604 - accuracy: 0.9667 - val_loss: 0.5045 - val_accuracy: 0.7133\n",
      "Epoch 26/100\n",
      "5/5 [==============================] - 0s 25ms/step - loss: 0.1611 - accuracy: 0.9632 - val_loss: 0.4910 - val_accuracy: 0.7413\n",
      "Epoch 27/100\n",
      "5/5 [==============================] - 0s 25ms/step - loss: 0.1539 - accuracy: 0.9720 - val_loss: 0.4799 - val_accuracy: 0.7552\n",
      "Epoch 28/100\n",
      "5/5 [==============================] - 0s 25ms/step - loss: 0.1548 - accuracy: 0.9667 - val_loss: 0.4718 - val_accuracy: 0.7552\n",
      "Epoch 29/100\n",
      "5/5 [==============================] - 0s 24ms/step - loss: 0.1542 - accuracy: 0.9702 - val_loss: 0.4638 - val_accuracy: 0.7552\n",
      "Epoch 30/100\n",
      "5/5 [==============================] - 0s 24ms/step - loss: 0.1375 - accuracy: 0.9667 - val_loss: 0.4541 - val_accuracy: 0.7622\n",
      "Epoch 31/100\n",
      "5/5 [==============================] - 0s 26ms/step - loss: 0.1375 - accuracy: 0.9737 - val_loss: 0.4431 - val_accuracy: 0.7622\n",
      "Epoch 32/100\n",
      "5/5 [==============================] - 0s 24ms/step - loss: 0.1446 - accuracy: 0.9737 - val_loss: 0.4287 - val_accuracy: 0.7622\n",
      "Epoch 33/100\n",
      "5/5 [==============================] - 0s 25ms/step - loss: 0.1314 - accuracy: 0.9702 - val_loss: 0.4082 - val_accuracy: 0.7902\n",
      "Epoch 34/100\n",
      "5/5 [==============================] - 0s 25ms/step - loss: 0.1252 - accuracy: 0.9755 - val_loss: 0.3950 - val_accuracy: 0.7972\n",
      "Epoch 35/100\n",
      "5/5 [==============================] - 0s 24ms/step - loss: 0.1306 - accuracy: 0.9685 - val_loss: 0.3787 - val_accuracy: 0.8112\n",
      "Epoch 36/100\n",
      "5/5 [==============================] - 0s 26ms/step - loss: 0.1104 - accuracy: 0.9737 - val_loss: 0.3709 - val_accuracy: 0.8112\n",
      "Epoch 37/100\n",
      "5/5 [==============================] - 0s 25ms/step - loss: 0.1123 - accuracy: 0.9755 - val_loss: 0.3615 - val_accuracy: 0.8182\n",
      "Epoch 38/100\n",
      "5/5 [==============================] - 0s 27ms/step - loss: 0.1203 - accuracy: 0.9702 - val_loss: 0.3545 - val_accuracy: 0.8182\n",
      "Epoch 39/100\n",
      "5/5 [==============================] - 0s 27ms/step - loss: 0.1166 - accuracy: 0.9790 - val_loss: 0.3478 - val_accuracy: 0.8252\n",
      "Epoch 40/100\n",
      "5/5 [==============================] - 0s 22ms/step - loss: 0.1162 - accuracy: 0.9720 - val_loss: 0.3372 - val_accuracy: 0.8252\n",
      "Epoch 41/100\n",
      "5/5 [==============================] - 0s 27ms/step - loss: 0.1084 - accuracy: 0.9807 - val_loss: 0.3258 - val_accuracy: 0.8392\n",
      "Epoch 42/100\n",
      "5/5 [==============================] - 0s 24ms/step - loss: 0.1122 - accuracy: 0.9685 - val_loss: 0.3212 - val_accuracy: 0.8392\n",
      "Epoch 43/100\n",
      "5/5 [==============================] - 0s 26ms/step - loss: 0.1182 - accuracy: 0.9650 - val_loss: 0.3061 - val_accuracy: 0.8462\n",
      "Epoch 44/100\n",
      "5/5 [==============================] - 0s 24ms/step - loss: 0.1045 - accuracy: 0.9702 - val_loss: 0.2847 - val_accuracy: 0.8531\n",
      "Epoch 45/100\n",
      "5/5 [==============================] - 0s 24ms/step - loss: 0.1101 - accuracy: 0.9685 - val_loss: 0.2641 - val_accuracy: 0.8881\n",
      "Epoch 46/100\n",
      "5/5 [==============================] - 0s 26ms/step - loss: 0.1082 - accuracy: 0.9737 - val_loss: 0.2448 - val_accuracy: 0.9091\n",
      "Epoch 47/100\n",
      "5/5 [==============================] - 0s 28ms/step - loss: 0.1085 - accuracy: 0.9772 - val_loss: 0.2339 - val_accuracy: 0.9091\n",
      "Epoch 48/100\n",
      "5/5 [==============================] - 0s 24ms/step - loss: 0.0971 - accuracy: 0.9772 - val_loss: 0.2344 - val_accuracy: 0.9091\n",
      "Epoch 49/100\n",
      "5/5 [==============================] - 0s 27ms/step - loss: 0.0897 - accuracy: 0.9755 - val_loss: 0.2359 - val_accuracy: 0.9091\n",
      "Epoch 50/100\n",
      "5/5 [==============================] - 0s 24ms/step - loss: 0.0904 - accuracy: 0.9755 - val_loss: 0.2389 - val_accuracy: 0.8951\n",
      "Epoch 51/100\n",
      "5/5 [==============================] - 0s 27ms/step - loss: 0.0935 - accuracy: 0.9790 - val_loss: 0.2416 - val_accuracy: 0.8951\n",
      "Epoch 52/100\n",
      "5/5 [==============================] - 0s 26ms/step - loss: 0.0917 - accuracy: 0.9807 - val_loss: 0.2266 - val_accuracy: 0.9091\n",
      "Epoch 53/100\n",
      "5/5 [==============================] - 0s 25ms/step - loss: 0.0916 - accuracy: 0.9737 - val_loss: 0.2061 - val_accuracy: 0.9161\n",
      "Epoch 54/100\n",
      "5/5 [==============================] - 0s 25ms/step - loss: 0.0973 - accuracy: 0.9632 - val_loss: 0.1848 - val_accuracy: 0.9371\n",
      "Epoch 55/100\n",
      "5/5 [==============================] - 0s 24ms/step - loss: 0.0914 - accuracy: 0.9685 - val_loss: 0.1755 - val_accuracy: 0.9371\n",
      "Epoch 56/100\n",
      "5/5 [==============================] - 0s 23ms/step - loss: 0.0786 - accuracy: 0.9790 - val_loss: 0.1777 - val_accuracy: 0.9371\n",
      "Epoch 57/100\n",
      "5/5 [==============================] - 0s 24ms/step - loss: 0.0787 - accuracy: 0.9807 - val_loss: 0.1813 - val_accuracy: 0.9371\n",
      "Epoch 58/100\n",
      "5/5 [==============================] - 0s 23ms/step - loss: 0.0863 - accuracy: 0.9667 - val_loss: 0.1832 - val_accuracy: 0.9371\n",
      "Epoch 59/100\n",
      "5/5 [==============================] - 0s 25ms/step - loss: 0.1124 - accuracy: 0.9545 - val_loss: 0.1816 - val_accuracy: 0.9371\n",
      "Epoch 60/100\n",
      "5/5 [==============================] - 0s 25ms/step - loss: 0.0772 - accuracy: 0.9790 - val_loss: 0.1672 - val_accuracy: 0.9441\n",
      "Epoch 61/100\n",
      "5/5 [==============================] - 0s 24ms/step - loss: 0.0840 - accuracy: 0.9772 - val_loss: 0.1605 - val_accuracy: 0.9441\n",
      "Epoch 62/100\n",
      "5/5 [==============================] - 0s 26ms/step - loss: 0.0709 - accuracy: 0.9737 - val_loss: 0.1634 - val_accuracy: 0.9441\n",
      "Epoch 63/100\n",
      "5/5 [==============================] - 0s 25ms/step - loss: 0.0777 - accuracy: 0.9755 - val_loss: 0.1659 - val_accuracy: 0.9371\n",
      "Epoch 64/100\n",
      "5/5 [==============================] - 0s 27ms/step - loss: 0.0812 - accuracy: 0.9720 - val_loss: 0.1590 - val_accuracy: 0.9371\n",
      "Epoch 65/100\n",
      "5/5 [==============================] - 0s 26ms/step - loss: 0.0846 - accuracy: 0.9720 - val_loss: 0.1565 - val_accuracy: 0.9371\n",
      "Epoch 66/100\n",
      "5/5 [==============================] - 0s 27ms/step - loss: 0.0690 - accuracy: 0.9790 - val_loss: 0.1531 - val_accuracy: 0.9441\n",
      "Epoch 67/100\n",
      "5/5 [==============================] - 0s 26ms/step - loss: 0.0683 - accuracy: 0.9807 - val_loss: 0.1451 - val_accuracy: 0.9510\n",
      "Epoch 68/100\n",
      "5/5 [==============================] - 0s 24ms/step - loss: 0.0784 - accuracy: 0.9790 - val_loss: 0.1428 - val_accuracy: 0.9510\n",
      "Epoch 69/100\n",
      "5/5 [==============================] - 0s 24ms/step - loss: 0.0762 - accuracy: 0.9842 - val_loss: 0.1364 - val_accuracy: 0.9580\n",
      "Epoch 70/100\n",
      "5/5 [==============================] - 0s 25ms/step - loss: 0.0659 - accuracy: 0.9807 - val_loss: 0.1368 - val_accuracy: 0.9580\n",
      "Epoch 71/100\n",
      "5/5 [==============================] - 0s 23ms/step - loss: 0.0842 - accuracy: 0.9790 - val_loss: 0.1217 - val_accuracy: 0.9580\n",
      "Epoch 72/100\n",
      "5/5 [==============================] - 0s 24ms/step - loss: 0.0661 - accuracy: 0.9807 - val_loss: 0.1073 - val_accuracy: 0.9650\n",
      "Epoch 73/100\n",
      "5/5 [==============================] - 0s 22ms/step - loss: 0.0981 - accuracy: 0.9685 - val_loss: 0.0983 - val_accuracy: 0.9720\n",
      "Epoch 74/100\n",
      "5/5 [==============================] - 0s 24ms/step - loss: 0.0707 - accuracy: 0.9807 - val_loss: 0.0866 - val_accuracy: 0.9790\n",
      "Epoch 75/100\n",
      "5/5 [==============================] - 0s 27ms/step - loss: 0.0658 - accuracy: 0.9825 - val_loss: 0.0834 - val_accuracy: 0.9790\n",
      "Epoch 76/100\n",
      "5/5 [==============================] - 0s 25ms/step - loss: 0.0551 - accuracy: 0.9842 - val_loss: 0.0847 - val_accuracy: 0.9790\n",
      "Epoch 77/100\n",
      "5/5 [==============================] - 0s 26ms/step - loss: 0.0579 - accuracy: 0.9825 - val_loss: 0.0865 - val_accuracy: 0.9790\n",
      "Epoch 78/100\n",
      "5/5 [==============================] - 0s 24ms/step - loss: 0.0649 - accuracy: 0.9790 - val_loss: 0.0863 - val_accuracy: 0.9790\n",
      "Epoch 79/100\n",
      "5/5 [==============================] - 0s 24ms/step - loss: 0.0665 - accuracy: 0.9772 - val_loss: 0.0889 - val_accuracy: 0.9790\n",
      "Epoch 80/100\n",
      "5/5 [==============================] - 0s 27ms/step - loss: 0.0878 - accuracy: 0.9667 - val_loss: 0.0842 - val_accuracy: 0.9790\n",
      "Epoch 81/100\n",
      "5/5 [==============================] - 0s 24ms/step - loss: 0.0650 - accuracy: 0.9772 - val_loss: 0.0794 - val_accuracy: 0.9790\n",
      "Epoch 82/100\n",
      "5/5 [==============================] - 0s 25ms/step - loss: 0.0615 - accuracy: 0.9807 - val_loss: 0.0752 - val_accuracy: 0.9790\n",
      "Epoch 83/100\n",
      "5/5 [==============================] - 0s 22ms/step - loss: 0.0632 - accuracy: 0.9842 - val_loss: 0.0751 - val_accuracy: 0.9790\n",
      "Epoch 84/100\n",
      "5/5 [==============================] - 0s 22ms/step - loss: 0.0525 - accuracy: 0.9895 - val_loss: 0.0696 - val_accuracy: 0.9790\n",
      "Epoch 85/100\n",
      "5/5 [==============================] - 0s 22ms/step - loss: 0.0581 - accuracy: 0.9790 - val_loss: 0.0644 - val_accuracy: 0.9790\n",
      "Epoch 86/100\n",
      "5/5 [==============================] - 0s 22ms/step - loss: 0.0499 - accuracy: 0.9895 - val_loss: 0.0688 - val_accuracy: 0.9720\n",
      "Epoch 87/100\n",
      "5/5 [==============================] - 0s 23ms/step - loss: 0.0544 - accuracy: 0.9877 - val_loss: 0.0761 - val_accuracy: 0.9790\n",
      "Epoch 88/100\n",
      "5/5 [==============================] - 0s 27ms/step - loss: 0.0709 - accuracy: 0.9772 - val_loss: 0.0753 - val_accuracy: 0.9790\n",
      "Epoch 89/100\n",
      "5/5 [==============================] - 0s 27ms/step - loss: 0.0668 - accuracy: 0.9755 - val_loss: 0.0666 - val_accuracy: 0.9720\n",
      "Epoch 90/100\n",
      "5/5 [==============================] - 0s 25ms/step - loss: 0.0499 - accuracy: 0.9860 - val_loss: 0.0780 - val_accuracy: 0.9720\n",
      "Epoch 91/100\n",
      "5/5 [==============================] - 0s 25ms/step - loss: 0.0549 - accuracy: 0.9807 - val_loss: 0.0780 - val_accuracy: 0.9720\n"
     ]
    }
   ],
   "source": [
    "result = model.fit(X_train, y_train, \n",
    "          epochs=100, \n",
    "          batch_size=128, \n",
    "          validation_data=(X_test,y_test),\n",
    "          callbacks=[early_stop])"
   ]
  },
  {
   "cell_type": "code",
   "execution_count": 14,
   "id": "47593759",
   "metadata": {},
   "outputs": [],
   "source": [
    "loss_df = pd.DataFrame(model.history.history)"
   ]
  },
  {
   "cell_type": "code",
   "execution_count": 15,
   "id": "2162fea4",
   "metadata": {},
   "outputs": [
    {
     "data": {
      "text/plain": [
       "<matplotlib.legend.Legend at 0x1bab13bc670>"
      ]
     },
     "execution_count": 15,
     "metadata": {},
     "output_type": "execute_result"
    },
    {
     "data": {
      "image/png": "[encoded data removed]",
      "text/plain": [
       "<Figure size 640x480 with 1 Axes>"
      ]
     },
     "metadata": {},
     "output_type": "display_data"
    }
   ],
   "source": [
    "plt.plot(loss_df['loss'], label='Training loss')\n",
    "plt.plot(loss_df['val_loss'], label='Validation loss')\n",
    "plt.legend()"
   ]
  },
  {
   "cell_type": "code",
   "execution_count": 16,
   "id": "0ac5cef0",
   "metadata": {},
   "outputs": [
    {
     "data": {
      "text/plain": [
       "<matplotlib.legend.Legend at 0x1bab13fa700>"
      ]
     },
     "execution_count": 16,
     "metadata": {},
     "output_type": "execute_result"
    },
    {
     "data": {
      "image/png": "[encoded data removed]",
      "text/plain": [
       "<Figure size 640x480 with 1 Axes>"
      ]
     },
     "metadata": {},
     "output_type": "display_data"
    }
   ],
   "source": [
    "plt.plot(loss_df['accuracy'], label='Training accuracy')\n",
    "plt.plot(loss_df['val_accuracy'], label='Validation accuracy')\n",
    "plt.legend()"
   ]
  },
  {
   "cell_type": "code",
   "execution_count": 17,
   "id": "e529d149",
   "metadata": {},
   "outputs": [],
   "source": [
    "from sklearn.metrics import classification_report, confusion_matrix, accuracy_score"
   ]
  },
  {
   "cell_type": "code",
   "execution_count": 18,
   "id": "4e4740db",
   "metadata": {},
   "outputs": [
    {
     "name": "stdout",
     "output_type": "stream",
     "text": [
      "5/5 [==============================] - 0s 6ms/step\n"
     ]
    }
   ],
   "source": [
    "y_pred = model.predict(X_test)\n",
    "y_pred = y_pred.round()"
   ]
  },
  {
   "cell_type": "code",
   "execution_count": 19,
   "id": "7b137955",
   "metadata": {},
   "outputs": [
    {
     "name": "stdout",
     "output_type": "stream",
     "text": [
      "              precision    recall  f1-score   support\n",
      "\n",
      "           0       0.99      0.96      0.97        71\n",
      "           1       0.96      0.99      0.97        72\n",
      "\n",
      "    accuracy                           0.97       143\n",
      "   macro avg       0.97      0.97      0.97       143\n",
      "weighted avg       0.97      0.97      0.97       143\n",
      "\n"
     ]
    }
   ],
   "source": [
    "print(classification_report(y_test, y_pred))"
   ]
  }
 ],
 "metadata": {
  "kernelspec": {
   "display_name": "Python 3 (ipykernel)",
   "language": "python",
   "name": "python3"
  },
  "language_info": {
   "codemirror_mode": {
    "name": "ipython",
    "version": 3
   },
   "file_extension": ".py",
   "mimetype": "text/x-python",
   "name": "python",
   "nbconvert_exporter": "python",
   "pygments_lexer": "ipython3",
   "version": "3.9.6"
  }
 },
 "nbformat": 4,
 "nbformat_minor": 5
}
